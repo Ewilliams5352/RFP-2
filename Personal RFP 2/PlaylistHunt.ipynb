{
 "cells": [
  {
   "cell_type": "code",
   "execution_count": 69,
   "metadata": {},
   "outputs": [],
   "source": [
    "import json\n",
    "import pandas as pd\n",
    "from collections import Counter\n",
    "import numpy as np\n",
    "from scipy.cluster.hierarchy import linkage, dendrogram\n",
    "import matplotlib.pyplot as plt\n",
    "from sklearn.metrics.pairwise import cosine_similarity\n",
    "from scipy.cluster.hierarchy import fcluster\n",
    "from sklearn.cluster import MiniBatchKMeans\n",
    "import spotipy\n",
    "from spotipy.oauth2 import SpotifyClientCredentials\n",
    "from sklearn.metrics.pairwise import euclidean_distances"
   ]
  },
  {
   "cell_type": "code",
   "execution_count": 4,
   "metadata": {},
   "outputs": [],
   "source": [
    "albums_json = json.load(open(\"1 Million Playlists/albums_0-999.json\"))\n",
    "\n",
    "artists_json = json.load(open(\"1 Million Playlists/artists_0-999.json\"))\n",
    "artists_pd = pd.read_csv(\"CSV/artists.csv\")\n",
    "\n",
    "songs_json = json.load(open(\"1 Million Playlists/songs_0-999.json\"))\n",
    "songs_pd = pd.read_csv(\"CSV/songs.csv\")\n",
    "\n",
    "playlists = json.load(open(\"1 Million Playlists/mpd.slice.0-999.json\"))\n",
    "\n",
    "vetting_json = json.load(open(\"Vetting_Playlist.json\"))\n",
    "vetting_pd = pd.read_csv(\"Vetting_Playlist.json\")"
   ]
  },
  {
   "cell_type": "code",
   "execution_count": 5,
   "metadata": {},
   "outputs": [],
   "source": [
    "def artist_counter(playlist):\n",
    "    artists = []\n",
    "    for i in playlist['tracks']['items']:\n",
    "        for j in i['track']['artists']:\n",
    "            artists.append(j['name'])\n",
    "    artist_counter = Counter(artists)\n",
    "    sorted_artists = sorted(artist_counter, key=artist_counter.get, reverse=True)\n",
    "    return sorted_artists\n",
    "\n",
    "vetting_artists = artist_counter(vetting_json)"
   ]
  },
  {
   "cell_type": "code",
   "execution_count": 39,
   "metadata": {},
   "outputs": [],
   "source": [
    "vetting_songs = []\n",
    "for i in vetting_json['tracks']['items']:\n",
    "    vetting_songs.append(i['track']['name'])"
   ]
  },
  {
   "cell_type": "code",
   "execution_count": 6,
   "metadata": {},
   "outputs": [],
   "source": [
    "def artist_counter_2(playlist): #Vetting playlist is structured differently to other playlists so this new function helps finds the artist for the other playlists\n",
    "    artists = []\n",
    "    for i in playlist[\"tracks\"]:\n",
    "        artists.append(i[\"artist_name\"])\n",
    "    artist_counter = Counter(artists)\n",
    "    sorted_artists = sorted(artist_counter, key=artist_counter.get, reverse=True)\n",
    "    return sorted_artists"
   ]
  },
  {
   "cell_type": "code",
   "execution_count": 7,
   "metadata": {},
   "outputs": [],
   "source": [
    "playlists_list = playlists[\"playlists\"]"
   ]
  },
  {
   "cell_type": "code",
   "execution_count": 15,
   "metadata": {},
   "outputs": [],
   "source": [
    "linked_list = []\n",
    "for i in playlists_list:\n",
    "    array = artist_counter_2(i)\n",
    "    linked_list.append(array)"
   ]
  },
  {
   "cell_type": "code",
   "execution_count": 20,
   "metadata": {},
   "outputs": [
    {
     "name": "stdout",
     "output_type": "stream",
     "text": [
      "Most similar list: ['Jack Johnson', 'Vampire Weekend', 'The Strokes', 'Local Natives', 'Sublime', 'Paul Simon', 'OK Go', 'Clap Your Hands Say Yeah', 'Dr. Dog', 'Jonathan Edwards', 'MGMT', 'The Morning Benders', 'Surfer Blood', 'Okkervil River', 'Two Door Cinema Club', 'Delta Spirit', 'Faces', 'Wilco', 'Daryl Hall & John Oates', 'Coconut Records', 'Spoon', 'Someone Still Loves You Boris Yeltsin', 'Queen', 'Beck']\n",
      "Similarity score: 0.08045977011494253\n",
      "Index of most similar list: 249\n"
     ]
    }
   ],
   "source": [
    "# Define a function to calculate similarity between two lists\n",
    "def similarity(list1, list2):\n",
    "    \"\"\"\n",
    "    Calculate Jaccard similarity between two lists.\n",
    "    \"\"\"\n",
    "    set1 = set(list1)\n",
    "    set2 = set(list2)\n",
    "    intersection = len(set1.intersection(set2))\n",
    "    union = len(set1.union(set2))\n",
    "    return intersection / union if union != 0 else 0\n",
    "\n",
    "# Define a function to find the most similar list\n",
    "def find_most_similar_list(main_list, linked_list):\n",
    "    \"\"\"\n",
    "    Find the most similar list in the linked list to the main list.\n",
    "    \"\"\"\n",
    "    max_similarity = 0\n",
    "    most_similar_list = None\n",
    "    most_similar_index = None\n",
    "    for index, sublist in enumerate(linked_list):\n",
    "        similarity_score = similarity(main_list, sublist)\n",
    "        if similarity_score > max_similarity:\n",
    "            max_similarity = similarity_score\n",
    "            most_similar_list = sublist\n",
    "            most_similar_index = index\n",
    "    return most_similar_list, max_similarity, most_similar_index\n",
    "\n",
    "\n",
    "# Find the most similar list\n",
    "most_similar, similarity_score, index = find_most_similar_list(vetting_artists, linked_list)\n",
    "print(\"Most similar list:\", most_similar)\n",
    "print(\"Similarity score:\", similarity_score)\n",
    "print(\"Index of most similar list:\", index)\n"
   ]
  },
  {
   "cell_type": "code",
   "execution_count": 22,
   "metadata": {},
   "outputs": [],
   "source": [
    "best_matching_playlist = playlists_list[249]"
   ]
  },
  {
   "cell_type": "code",
   "execution_count": 58,
   "metadata": {},
   "outputs": [],
   "source": [
    "best_matching_playlist_artists = []\n",
    "best_matching_playlist_songs = []\n",
    "best_matching_playlist_songs_id = []\n",
    "for i in best_matching_playlist[\"tracks\"]:\n",
    "    best_matching_playlist_artists.append(i[\"artist_name\"])\n",
    "    best_matching_playlist_songs.append(i[\"track_name\"])\n",
    "    best_matching_playlist_songs_id.append(i[\"track_uri\"][14:])\n",
    "    "
   ]
  },
  {
   "cell_type": "code",
   "execution_count": 84,
   "metadata": {},
   "outputs": [
    {
     "name": "stdout",
     "output_type": "stream",
     "text": [
      "Best Artist Match: ['Dr. Dog', 'Delta Spirit', 'Local Natives', 'Spoon', 'The Strokes', 'Vampire Weekend', 'Clap Your Hands Say Yeah']\n"
     ]
    }
   ],
   "source": [
    "# Find common elements using list comprehension\n",
    "Best_Artist_Match = [item for item in vetting_artists if item in best_matching_playlist_artists]\n",
    "\n",
    "# Print the third list\n",
    "print(f'Best Artist Match: {Best_Artist_Match}')"
   ]
  },
  {
   "cell_type": "markdown",
   "metadata": {},
   "source": [
    "Best Match for Heirchial Clustering: Heart It Races - Dr. Dog Version"
   ]
  }
 ],
 "metadata": {
  "kernelspec": {
   "display_name": "Python 3",
   "language": "python",
   "name": "python3"
  },
  "language_info": {
   "codemirror_mode": {
    "name": "ipython",
    "version": 3
   },
   "file_extension": ".py",
   "mimetype": "text/x-python",
   "name": "python",
   "nbconvert_exporter": "python",
   "pygments_lexer": "ipython3",
   "version": "3.12.0"
  }
 },
 "nbformat": 4,
 "nbformat_minor": 2
}
