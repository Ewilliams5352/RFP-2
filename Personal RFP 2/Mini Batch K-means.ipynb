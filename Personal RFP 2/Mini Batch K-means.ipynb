{
 "cells": [
  {
   "cell_type": "code",
   "execution_count": 8,
   "metadata": {},
   "outputs": [
    {
     "ename": "AttributeError",
     "evalue": "'str' object has no attribute 'get'",
     "output_type": "error",
     "traceback": [
      "\u001b[0;31m---------------------------------------------------------------------------\u001b[0m",
      "\u001b[0;31mAttributeError\u001b[0m                            Traceback (most recent call last)",
      "Cell \u001b[0;32mIn[8], line 58\u001b[0m\n\u001b[1;32m     56\u001b[0m \u001b[38;5;66;03m# Find the closest match to the vetting playlist\u001b[39;00m\n\u001b[1;32m     57\u001b[0m vetting_features \u001b[38;5;241m=\u001b[39m np\u001b[38;5;241m.\u001b[39mzeros(\u001b[38;5;28mlen\u001b[39m(all_features))\n\u001b[0;32m---> 58\u001b[0m vetting_genre_features, vetting_artist_features \u001b[38;5;241m=\u001b[39m \u001b[43mextract_features\u001b[49m\u001b[43m(\u001b[49m\u001b[43mvetting_playlist\u001b[49m\u001b[43m)\u001b[49m\n\u001b[1;32m     59\u001b[0m \u001b[38;5;28;01mfor\u001b[39;00m genre \u001b[38;5;129;01min\u001b[39;00m vetting_genre_features:\n\u001b[1;32m     60\u001b[0m     vetting_features[all_features\u001b[38;5;241m.\u001b[39mindex(genre)] \u001b[38;5;241m=\u001b[39m vetting_genre_features\u001b[38;5;241m.\u001b[39mcount(genre)\n",
      "Cell \u001b[0;32mIn[8], line 18\u001b[0m, in \u001b[0;36mextract_features\u001b[0;34m(playlist)\u001b[0m\n\u001b[1;32m     16\u001b[0m artist_counter \u001b[38;5;241m=\u001b[39m Counter()\n\u001b[1;32m     17\u001b[0m \u001b[38;5;28;01mfor\u001b[39;00m track \u001b[38;5;129;01min\u001b[39;00m playlist[\u001b[38;5;124m'\u001b[39m\u001b[38;5;124mtracks\u001b[39m\u001b[38;5;124m'\u001b[39m]:\n\u001b[0;32m---> 18\u001b[0m     artist_name \u001b[38;5;241m=\u001b[39m \u001b[43mtrack\u001b[49m\u001b[38;5;241;43m.\u001b[39;49m\u001b[43mget\u001b[49m(\u001b[38;5;124m'\u001b[39m\u001b[38;5;124martist_name\u001b[39m\u001b[38;5;124m'\u001b[39m, \u001b[38;5;124m'\u001b[39m\u001b[38;5;124mUnknown\u001b[39m\u001b[38;5;124m'\u001b[39m)\n\u001b[1;32m     19\u001b[0m     artist_counter[artist_name] \u001b[38;5;241m+\u001b[39m\u001b[38;5;241m=\u001b[39m \u001b[38;5;241m1\u001b[39m\n\u001b[1;32m     20\u001b[0m     \u001b[38;5;28;01mif\u001b[39;00m artist_name \u001b[38;5;241m!=\u001b[39m \u001b[38;5;124m'\u001b[39m\u001b[38;5;124mUnknown\u001b[39m\u001b[38;5;124m'\u001b[39m:\n",
      "\u001b[0;31mAttributeError\u001b[0m: 'str' object has no attribute 'get'"
     ]
    }
   ],
   "source": [
    "import json\n",
    "import numpy as np\n",
    "from collections import Counter\n",
    "from sklearn.metrics.pairwise import cosine_similarity\n",
    "from sklearn.cluster import MiniBatchKMeans\n",
    "import matplotlib.pyplot as plt\n",
    "\n",
    "# Load vetting playlist and data\n",
    "vetting_playlist = json.load(open('Vetting_Playlist.json'))\n",
    "data = json.load(open(\"1 Million Playlists/mpd.slice.0-999.json\"))\n",
    "playlists = data[\"playlists\"]\n",
    "\n",
    "# Preprocess data: Extract features (e.g., genres/artists frequencies) from playlists\n",
    "def extract_features(playlist):\n",
    "    genre_counter = Counter()\n",
    "    artist_counter = Counter()\n",
    "    for track in playlist['tracks']:\n",
    "        artist_name = track.get('artist_name', 'Unknown')\n",
    "        artist_counter[artist_name] += 1\n",
    "        if artist_name != 'Unknown':\n",
    "            artist_genres = get_artist_genres(artist_name)\n",
    "            genre_counter.update(artist_genres)\n",
    "    return list(genre_counter), list(artist_counter)\n",
    "\n",
    "# Get artist genres using Spotify API\n",
    "def get_artist_genres(artist_name):\n",
    "    # Assume you have implemented this function\n",
    "    pass\n",
    "\n",
    "# Define distance metric\n",
    "def distance(playlist1, playlist2):\n",
    "    features1 = np.concatenate(list(extract_features(playlist1)))\n",
    "    features2 = np.concatenate(list(extract_features(playlist2)))\n",
    "    return 1 - cosine_similarity([features1], [features2])[0, 0]\n",
    "\n",
    "# Create feature matrix\n",
    "all_features = set()\n",
    "for playlist in playlists:\n",
    "    genre_features, artist_features = extract_features(playlist)\n",
    "    all_features.update(genre_features)\n",
    "    all_features.update(artist_features)\n",
    "all_features = list(all_features)\n",
    "X = np.zeros((len(playlists), len(all_features)))\n",
    "for i, playlist in enumerate(playlists):\n",
    "    genre_features, artist_features = extract_features(playlist)\n",
    "    for genre in genre_features:\n",
    "        X[i, all_features.index(genre)] = genre_features.count(genre)\n",
    "    for artist in artist_features:\n",
    "        X[i, all_features.index(artist)] = artist_features.count(artist)\n",
    "\n",
    "# Perform MiniBatchKMeans clustering\n",
    "k = 10  # Number of clusters\n",
    "mbk = MiniBatchKMeans(n_clusters=k, batch_size=100, random_state=42)\n",
    "mbk.fit(X)\n",
    "\n",
    "# Find the closest match to the vetting playlist\n",
    "vetting_features = np.zeros(len(all_features))\n",
    "vetting_genre_features, vetting_artist_features = extract_features(vetting_playlist)\n",
    "for genre in vetting_genre_features:\n",
    "    vetting_features[all_features.index(genre)] = vetting_genre_features.count(genre)\n",
    "for artist in vetting_artist_features:\n",
    "    vetting_features[all_features.index(artist)] = vetting_artist_features.count(artist)\n",
    "vetting_cluster = mbk.predict([vetting_features])[0]\n",
    "closest_match = None\n",
    "closest_distance = float('inf')\n",
    "for i, playlist in enumerate(playlists):\n",
    "    if mbk.labels_[i] == vetting_cluster:\n",
    "        d = distance(vetting_playlist, playlist)\n",
    "        if d < closest_distance:\n",
    "            closest_distance = d\n",
    "            closest_match = playlist\n",
    "\n",
    "print(\"Closest match:\", closest_match)\n"
   ]
  },
  {
   "cell_type": "code",
   "execution_count": null,
   "metadata": {},
   "outputs": [],
   "source": []
  }
 ],
 "metadata": {
  "kernelspec": {
   "display_name": "Python 3",
   "language": "python",
   "name": "python3"
  },
  "language_info": {
   "codemirror_mode": {
    "name": "ipython",
    "version": 3
   },
   "file_extension": ".py",
   "mimetype": "text/x-python",
   "name": "python",
   "nbconvert_exporter": "python",
   "pygments_lexer": "ipython3",
   "version": "3.12.0"
  }
 },
 "nbformat": 4,
 "nbformat_minor": 2
}
