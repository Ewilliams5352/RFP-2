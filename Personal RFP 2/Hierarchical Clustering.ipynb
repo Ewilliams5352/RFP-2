{
 "cells": [
  {
   "cell_type": "code",
   "execution_count": 1,
   "metadata": {},
   "outputs": [],
   "source": [
    "#Now that we have the following data on her playlist:\n",
    "#Top 10 Artists:             |       Top 10 Genres: \n",
    "# Angel Olsen: 7.41%         |       indie rock: 6.85%\n",
    "# Alabama Shakes: 5.56%      |       chamber pop: 6.36%\n",
    "# Shakey Graves: 3.70%       |       stomp and holler: 3.91%\n",
    "# Big Thief: 3.70%           |       art pop: 3.18%\n",
    "# Vulfpeck: 2.78%            |       alternative rock: 2.69%\n",
    "# Dr. Dog: 2.78%             |       indie folk: 2.44%\n",
    "# Scary Pockets: 2.78%       |       modern rock: 2.44%\n",
    "# Perfume Genius: 2.78%      |       indie pop: 2.44%\n",
    "# DeVotchKa: 2.78%           |       noise pop: 2.44%\n",
    "# Lake Street Dive: 1.85%    |       rock: 2.20%\n",
    "\n",
    "#Let's try to find playlists that match the best to her music tase"
   ]
  },
  {
   "cell_type": "code",
   "execution_count": 2,
   "metadata": {},
   "outputs": [],
   "source": [
    "import json\n",
    "import numpy as np\n",
    "from collections import Counter\n",
    "from sklearn.metrics.pairwise import cosine_similarity\n",
    "from sklearn.cluster import AgglomerativeClustering\n",
    "import spotipy\n",
    "from sklearn.feature_extraction.text import CountVectorizer\n",
    "from spotipy.oauth2 import SpotifyClientCredentials"
   ]
  },
  {
   "cell_type": "code",
   "execution_count": 3,
   "metadata": {},
   "outputs": [],
   "source": [
    "# Load Spotify API credentials\n",
    "SPOTIFY_CLIENT_ID = '5bfd2e70ee10473bb7f453a838d02952'\n",
    "SPOTIFY_CLIENT_SECRET = 'a2fb65c973f246ef9a9392e5e14887fe'\n",
    "\n",
    "# Initialize Spotipy client\n",
    "sp = spotipy.Spotify(auth_manager=SpotifyClientCredentials(client_id=SPOTIFY_CLIENT_ID, client_secret=SPOTIFY_CLIENT_SECRET))\n",
    "\n",
    "# Load vetting playlist and data\n",
    "vetting_playlist = json.load(open('Vetting_Playlist.json'))\n",
    "data = json.load(open(\"1 Million Playlists/mpd.slice.0-999.json\"))\n",
    "playlists = data[\"playlists\"]\n",
    "\n",
    "# Preprocess data: Extract features (e.g., genres/artists frequencies) from playlists\n",
    "def extract_features(playlist):\n",
    "    genre_counter = Counter()\n",
    "    artist_counter = Counter()\n",
    "    for track in playlist['tracks']:\n",
    "        artist_name = track.get('artist_name', 'Unknown')\n",
    "        artist_counter[artist_name] += 1\n",
    "        if artist_name != 'Unknown':\n",
    "            artist_genres = get_artist_genres(artist_name)\n",
    "            if artist_genres:\n",
    "                genre_counter.update(artist_genres)\n",
    "    return list(genre_counter.elements()), list(artist_counter.elements())\n",
    "\n",
    "\n",
    "# Get artist genres using Spotify API\n",
    "def get_artist_genres(artist_name):\n",
    "    results = sp.search(q='artist:' + artist_name, type='artist')\n",
    "    items = results['artists']['items']\n",
    "    if len(items) > 0:\n",
    "        return items[0]['genres']\n",
    "    else:\n",
    "        return []\n",
    "\n",
    "# Define distance metric\n",
    "def distance(playlist1, playlist2):\n",
    "    features1, features2 = extract_features(playlist1), extract_features(playlist2)\n",
    "    vectorizer = CountVectorizer()\n",
    "    genres_combined = [\", \".join(features1[0]), \", \".join(features2[0])]\n",
    "    vectorized = vectorizer.fit_transform(genres_combined)\n",
    "    features1_vec, features2_vec = vectorized.toarray()\n",
    "    return 1 - cosine_similarity([features1_vec], [features2_vec])[0, 0]\n",
    "\n",
    "\n",
    "# Create distance matrix\n",
    "num_playlists = len(playlists)\n",
    "distance_matrix = np.zeros((num_playlists, num_playlists))\n",
    "for i in range(num_playlists):\n",
    "    for j in range(num_playlists):\n",
    "        distance_matrix[i, j] = distance(playlists[i], playlists[j])\n",
    "\n",
    "# Perform hierarchical clustering\n",
    "cluster = AgglomerativeClustering(n_clusters=10, affinity='precomputed', linkage='complete')\n",
    "cluster.fit(distance_matrix)\n",
    "\n",
    "# Find the closest match to the vetting playlist\n",
    "vetting_features = np.concatenate(list(extract_features(vetting_playlist)))\n",
    "vetting_cluster = cluster.predict([vetting_features])[0]\n",
    "closest_match = None\n",
    "closest_distance = float('inf')\n",
    "for i, playlist in enumerate(playlists):\n",
    "    if cluster.labels_[i] == vetting_cluster:\n",
    "        d = distance(vetting_playlist, playlist)\n",
    "        if d < closest_distance:\n",
    "            closest_distance = d\n",
    "            closest_match = playlist\n",
    "\n",
    "print(\"Closest match:\", closest_match)\n"
   ]
  },
  {
   "cell_type": "code",
   "execution_count": null,
   "metadata": {},
   "outputs": [],
   "source": [
    "import matplotlib.pyplot as plt"
   ]
  },
  {
   "cell_type": "code",
   "execution_count": null,
   "metadata": {},
   "outputs": [],
   "source": [
    "plt.figure(figsize=(100, 50))\n",
    "dendrogram(Z, labels=[f\"Playlist {i}\" for i in range(num_playlists)], leaf_rotation=90)\n",
    "plt.title('Hierarchical Clustering Dendrogram')\n",
    "plt.xlabel('Playlist Index')\n",
    "plt.ylabel('Distance')\n",
    "plt.show()"
   ]
  }
 ],
 "metadata": {
  "kernelspec": {
   "display_name": "Python 3",
   "language": "python",
   "name": "python3"
  },
  "language_info": {
   "codemirror_mode": {
    "name": "ipython",
    "version": 3
   },
   "file_extension": ".py",
   "mimetype": "text/x-python",
   "name": "python",
   "nbconvert_exporter": "python",
   "pygments_lexer": "ipython3",
   "version": "3.12.0"
  }
 },
 "nbformat": 4,
 "nbformat_minor": 2
}
