{
 "cells": [
  {
   "cell_type": "markdown",
   "metadata": {},
   "source": [
    "# import pandas as pd\n",
    "import json\n",
    "from collections import Counter\n",
    "import spotipy\n",
    "from spotipy.oauth2 import SpotifyClientCredentials"
   ]
  },
  {
   "cell_type": "code",
   "execution_count": 1,
   "metadata": {},
   "outputs": [
    {
     "ename": "ModuleNotFoundError",
     "evalue": "No module named 'spotipy'",
     "output_type": "error",
     "traceback": [
      "\u001b[1;31m---------------------------------------------------------------------------\u001b[0m",
      "\u001b[1;31mModuleNotFoundError\u001b[0m                       Traceback (most recent call last)",
      "\u001b[1;32m~\\AppData\\Local\\Temp\\ipykernel_6564\\2623627575.py\u001b[0m in \u001b[0;36m<module>\u001b[1;34m\u001b[0m\n\u001b[0;32m      2\u001b[0m \u001b[1;32mimport\u001b[0m \u001b[0mjson\u001b[0m\u001b[1;33m\u001b[0m\u001b[1;33m\u001b[0m\u001b[0m\n\u001b[0;32m      3\u001b[0m \u001b[1;32mfrom\u001b[0m \u001b[0mcollections\u001b[0m \u001b[1;32mimport\u001b[0m \u001b[0mCounter\u001b[0m\u001b[1;33m\u001b[0m\u001b[1;33m\u001b[0m\u001b[0m\n\u001b[1;32m----> 4\u001b[1;33m \u001b[1;32mimport\u001b[0m \u001b[0mspotipy\u001b[0m\u001b[1;33m\u001b[0m\u001b[1;33m\u001b[0m\u001b[0m\n\u001b[0m\u001b[0;32m      5\u001b[0m \u001b[1;32mfrom\u001b[0m \u001b[0mspotipy\u001b[0m\u001b[1;33m.\u001b[0m\u001b[0moauth2\u001b[0m \u001b[1;32mimport\u001b[0m \u001b[0mSpotifyClientCredentials\u001b[0m\u001b[1;33m\u001b[0m\u001b[1;33m\u001b[0m\u001b[0m\n",
      "\u001b[1;31mModuleNotFoundError\u001b[0m: No module named 'spotipy'"
     ]
    },
    {
     "ename": "ModuleNotFoundError",
     "evalue": "No module named 'spotipy'",
     "output_type": "error",
     "traceback": [
      "\u001b[1;31m---------------------------------------------------------------------------\u001b[0m",
      "\u001b[1;31mModuleNotFoundError\u001b[0m                       Traceback (most recent call last)",
      "\u001b[1;32m~\\AppData\\Local\\Temp\\ipykernel_6564\\2623627575.py\u001b[0m in \u001b[0;36m<module>\u001b[1;34m\u001b[0m\n\u001b[0;32m      2\u001b[0m \u001b[1;32mimport\u001b[0m \u001b[0mjson\u001b[0m\u001b[1;33m\u001b[0m\u001b[1;33m\u001b[0m\u001b[0m\n\u001b[0;32m      3\u001b[0m \u001b[1;32mfrom\u001b[0m \u001b[0mcollections\u001b[0m \u001b[1;32mimport\u001b[0m \u001b[0mCounter\u001b[0m\u001b[1;33m\u001b[0m\u001b[1;33m\u001b[0m\u001b[0m\n\u001b[1;32m----> 4\u001b[1;33m \u001b[1;32mimport\u001b[0m \u001b[0mspotipy\u001b[0m\u001b[1;33m\u001b[0m\u001b[1;33m\u001b[0m\u001b[0m\n\u001b[0m\u001b[0;32m      5\u001b[0m \u001b[1;32mfrom\u001b[0m \u001b[0mspotipy\u001b[0m\u001b[1;33m.\u001b[0m\u001b[0moauth2\u001b[0m \u001b[1;32mimport\u001b[0m \u001b[0mSpotifyClientCredentials\u001b[0m\u001b[1;33m\u001b[0m\u001b[1;33m\u001b[0m\u001b[0m\n",
      "\u001b[1;31mModuleNotFoundError\u001b[0m: No module named 'spotipy'"
     ]
    }
   ],
   "source": [
    "import pandas as pd\n",
    "import json \n",
    "from collections import Counter \n",
    "import spotipy \n",
    "from spotipy.oauth2 import SpotifyClientCredentials"
   ]
  },
  {
   "cell_type": "code",
   "execution_count": null,
   "metadata": {},
   "outputs": [],
   "source": [
    "songs_df = pd.read_json(\"/Users/apu/Desktop/Potato/RFP-2/Data/1 Million Playlists/songs_0-999.json\")\n",
    "artists_df = pd.read_json(\"/Users/apu/Desktop/Potato/RFP-2/Data/1 Million Playlists/artists_0-999.json\")\n",
    "albums_df = pd.read_json(\"/Users/apu/Desktop/Potato/RFP-2/Data/1 Million Playlists/albums_0-999.json\")"
   ]
  },
  {
   "cell_type": "code",
   "execution_count": null,
   "metadata": {},
   "outputs": [],
   "source": [
    "vetting_playlist = open('/Users/apu/Desktop/Potato/RFP-2/Data/Vetting_Playlist.json' , \"r\")\n",
    "data = json.load(vetting_playlist)"
   ]
  },
  {
   "cell_type": "code",
   "execution_count": null,
   "metadata": {},
   "outputs": [],
   "source": [
    "vetting_playlist_songs = []\n",
    "vetting_playlist_artists = []\n",
    "for i in data['tracks']['items']:\n",
    "    vetting_playlist_songs.append(i['track']['name'])\n",
    "    for j in i['track']['artists']:\n",
    "        vetting_playlist_artists.append(j['name'])"
   ]
  },
  {
   "cell_type": "code",
   "execution_count": null,
   "metadata": {},
   "outputs": [],
   "source": [
    "def find_top_items_with_percentage(lst, top_n=10):\n",
    "    item_counts = Counter(lst)\n",
    "    top_items = item_counts.most_common(top_n)\n",
    "    total_items = len(lst)\n",
    "    for item, count in top_items:\n",
    "        percentage = (count / total_items) * 100\n",
    "        print(f\"{item}: {count} occurrences, {percentage:.2f}% of total\")\n",
    "find_top_items_with_percentage(vetting_playlist_artists)"
   ]
  },
  {
   "cell_type": "code",
   "execution_count": null,
   "metadata": {},
   "outputs": [],
   "source": [
    "vetting_playlist_songs"
   ]
  },
  {
   "cell_type": "code",
   "execution_count": null,
   "metadata": {},
   "outputs": [],
   "source": [
    "client_id = '5bfd2e70ee10473bb7f453a838d02952'\n",
    "client_secret = 'a2fb65c973f246ef9a9392e5e14887fe'\n",
    "client_credentials_manager = SpotifyClientCredentials(client_id=client_id, client_secret=client_secret)\n",
    "sp = spotipy.Spotify(client_credentials_manager=client_credentials_manager)"
   ]
  },
  {
   "cell_type": "code",
   "execution_count": null,
   "metadata": {},
   "outputs": [],
   "source": [
    "genres_list = []\n",
    "for song in vetting_playlist_songs:\n",
    "    # This is a simplified example. You might need to handle exceptions and ensure the song is found.\n",
    "    results = sp.search(q='track:' + song, type='track')\n",
    "    track = results['tracks']['items'][0] if results['tracks']['items'] else None\n",
    "    if track:\n",
    "        artist_id = track['artists'][0]['id']\n",
    "        artist = sp.artist(artist_id)\n",
    "        genres = artist['genres']\n",
    "        genres_list.append(genres)\n",
    "        print(f\"Song: {song}, Genres: {genres}\")\n",
    "    else:\n",
    "        print(f\"Song: {song} not found.\")"
   ]
  },
  {
   "cell_type": "code",
   "execution_count": null,
   "metadata": {},
   "outputs": [],
   "source": [
    "print(genres_list)\n",
    "individual_genres_list = [item for sublist in genres_list for item in sublist]\n",
    "print(individual_genres_list)\n",
    "find_top_items_with_percentage(individual_genres_list)"
   ]
  },
  {
   "cell_type": "code",
   "execution_count": null,
   "metadata": {},
   "outputs": [],
   "source": []
  }
 ],
 "metadata": {
  "kernelspec": {
   "display_name": "Python 3 (ipykernel)",
   "language": "python",
   "name": "python3"
  },
  "language_info": {
   "codemirror_mode": {
    "name": "ipython",
    "version": 3
   },
   "file_extension": ".py",
   "mimetype": "text/x-python",
   "name": "python",
   "nbconvert_exporter": "python",
   "pygments_lexer": "ipython3",
   "version": "3.9.13"
  }
 },
 "nbformat": 4,
 "nbformat_minor": 2
}
