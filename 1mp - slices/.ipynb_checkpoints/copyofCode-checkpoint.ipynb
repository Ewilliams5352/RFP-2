{
 "cells": [
  {
   "cell_type": "markdown",
   "metadata": {},
   "source": [
    "# import pandas as pd\n",
    "import json\n",
    "from collections import Counter\n",
    "import spotipy\n",
    "from spotipy.oauth2 import SpotifyClientCredentials"
   ]
  },
  {
   "cell_type": "code",
   "execution_count": 1,
   "metadata": {},
   "outputs": [],
   "source": [
    "import pandas as pd\n",
    "import json \n",
    "from collections import Counter \n",
    "import spotipy \n",
    "from spotipy.oauth2 import SpotifyClientCredentials"
   ]
  },
  {
   "cell_type": "code",
   "execution_count": 2,
   "metadata": {},
   "outputs": [],
   "source": [
    "vetting_playlist = open('Vetting_Playlist.json' , \"r\")\n",
    "data = json.load(vetting_playlist)"
   ]
  },
  {
   "cell_type": "code",
   "execution_count": 3,
   "metadata": {},
   "outputs": [],
   "source": [
    "vetting_playlist_songs = []\n",
    "vetting_playlist_artists = []\n",
    "for i in data['tracks']['items']:\n",
    "    vetting_playlist_songs.append(i['track']['name'])\n",
    "    for j in i['track']['artists']:\n",
    "        vetting_playlist_artists.append(j['name'])"
   ]
  },
  {
   "cell_type": "code",
   "execution_count": 4,
   "metadata": {
    "scrolled": false
   },
   "outputs": [
    {
     "name": "stdout",
     "output_type": "stream",
     "text": [
      "Angel Olsen: 8 occurrences, 7.41% of total\n",
      "Alabama Shakes: 6 occurrences, 5.56% of total\n",
      "Shakey Graves: 4 occurrences, 3.70% of total\n",
      "Big Thief: 4 occurrences, 3.70% of total\n",
      "Vulfpeck: 3 occurrences, 2.78% of total\n",
      "Dr. Dog: 3 occurrences, 2.78% of total\n",
      "Scary Pockets: 3 occurrences, 2.78% of total\n",
      "Perfume Genius: 3 occurrences, 2.78% of total\n",
      "DeVotchKa: 3 occurrences, 2.78% of total\n",
      "Lake Street Dive: 2 occurrences, 1.85% of total\n"
     ]
    }
   ],
   "source": [
    "def find_top_items_with_percentage(lst, top_n=10):\n",
    "    item_counts = Counter(lst)\n",
    "    top_items = item_counts.most_common(top_n)\n",
    "    total_items = len(lst)\n",
    "    for item, count in top_items:\n",
    "        percentage = (count / total_items) * 100\n",
    "        print(f\"{item}: {count} occurrences, {percentage:.2f}% of total\")\n",
    "find_top_items_with_percentage(vetting_playlist_artists)"
   ]
  },
  {
   "cell_type": "code",
   "execution_count": 5,
   "metadata": {},
   "outputs": [],
   "source": [
    "vetting_playlist_artists = list(set(vetting_playlist_artists))"
   ]
  },
  {
   "cell_type": "code",
   "execution_count": 6,
   "metadata": {},
   "outputs": [],
   "source": [
    "client_id = 'ac3a715b37034a6991acae9ebd84a3eb'\n",
    "client_secret = 'd0bf822b756d434ab03cf07e06be8f7c'\n",
    "client_credentials_manager = SpotifyClientCredentials(client_id=client_id, client_secret=client_secret)\n",
    "sp = spotipy.Spotify(client_credentials_manager=client_credentials_manager)"
   ]
  },
  {
   "cell_type": "code",
   "execution_count": 7,
   "metadata": {},
   "outputs": [
    {
     "data": {
      "text/plain": [
       "'\\nartist_names = [\"Angel Olsen\", \"Alabama Shakes\", \"Shakey Graves\", \"Big Thief\", \"Vulfpeck\", \"Dr. Dog\", \"Scary Pockets\", \"Perfume Genius\", \"DeVotchKa\"]\\nfor artist_name in artist_names:\\n    result = sp.search(artist_name, type=\\'artist\\')\\n\\n    # Get the artist\\'s ID\\n    artist_id = result[\\'artists\\'][\\'items\\'][0][\\'id\\']\\n    \\n    # Get the artist\\'s popularity\\n    popularity = sp.artist(artist_id)[\\'popularity\\']\\n    print(f\"The popularity of {artist_name} is {popularity}.\")\\n    \\n    \\n    similar_artists = sp.artist_related_artists(artist_id)\\n\\n    print(f\"Top track for each similar artist to {artist_name}:\")\\n    for artist in similar_artists[\\'artists\\']:\\n        # Get the top tracks for the artist\\n        top_tracks = sp.artist_top_tracks(artist[\\'id\\'])\\n        if top_tracks and len(top_tracks[\\'tracks\\']) > 0:\\n            # Get the most popular track\\n            most_popular_track = top_tracks[\\'tracks\\'][0]\\n            print(f\"{artist[\\'name\\']}, {artist[\\'popularity\\']}: \\'{most_popular_track[\\'name\\']}\\' with popularity score {most_popular_track[\\'popularity\\']}\")\\n        else:\\n            print(f\"No top tracks found for {artist[\\'name\\']}\")\\n    print(\"------------------------------\")\\n'"
      ]
     },
     "execution_count": 7,
     "metadata": {},
     "output_type": "execute_result"
    }
   ],
   "source": [
    "\"\"\"\n",
    "artist_names = [\"Angel Olsen\", \"Alabama Shakes\", \"Shakey Graves\", \"Big Thief\", \"Vulfpeck\", \"Dr. Dog\", \"Scary Pockets\", \"Perfume Genius\", \"DeVotchKa\"]\n",
    "for artist_name in artist_names:\n",
    "    result = sp.search(artist_name, type='artist')\n",
    "\n",
    "    # Get the artist's ID\n",
    "    artist_id = result['artists']['items'][0]['id']\n",
    "    \n",
    "    # Get the artist's popularity\n",
    "    popularity = sp.artist(artist_id)['popularity']\n",
    "    print(f\"The popularity of {artist_name} is {popularity}.\")\n",
    "    \n",
    "    \n",
    "    similar_artists = sp.artist_related_artists(artist_id)\n",
    "\n",
    "    print(f\"Top track for each similar artist to {artist_name}:\")\n",
    "    for artist in similar_artists['artists']:\n",
    "        # Get the top tracks for the artist\n",
    "        top_tracks = sp.artist_top_tracks(artist['id'])\n",
    "        if top_tracks and len(top_tracks['tracks']) > 0:\n",
    "            # Get the most popular track\n",
    "            most_popular_track = top_tracks['tracks'][0]\n",
    "            print(f\"{artist['name']}, {artist['popularity']}: '{most_popular_track['name']}' with popularity score {most_popular_track['popularity']}\")\n",
    "        else:\n",
    "            print(f\"No top tracks found for {artist['name']}\")\n",
    "    print(\"------------------------------\")\n",
    "\"\"\""
   ]
  },
  {
   "cell_type": "code",
   "execution_count": 8,
   "metadata": {},
   "outputs": [
    {
     "data": {
      "text/plain": [
       "2"
      ]
     },
     "execution_count": 8,
     "metadata": {},
     "output_type": "execute_result"
    }
   ],
   "source": [
    "8\n",
    "6\n",
    "4\n",
    "4\n",
    "3\n",
    "3\n",
    "3\n",
    "3\n",
    "2"
   ]
  },
  {
   "cell_type": "code",
   "execution_count": 9,
   "metadata": {
    "scrolled": true
   },
   "outputs": [
    {
     "data": {
      "text/plain": [
       "\"\\nBig Thief, 'Vampire Empire' (66/76) !\\n\\nFather John Misty, 'Let The Light In (feat. Father John Misty)' (70/83) !\\n\\nSt. Vincent, 'Rosyln' (62/76) !\\n\""
      ]
     },
     "execution_count": 9,
     "metadata": {},
     "output_type": "execute_result"
    }
   ],
   "source": [
    "\"\"\"\n",
    "Big Thief, 'Vampire Empire' (66/76) !\n",
    "\n",
    "Father John Misty, 'Let The Light In (feat. Father John Misty)' (70/83) !\n",
    "\n",
    "St. Vincent, 'Rosyln' (62/76) !\n",
    "\"\"\""
   ]
  },
  {
   "cell_type": "code",
   "execution_count": 10,
   "metadata": {
    "scrolled": true
   },
   "outputs": [
    {
     "data": {
      "text/plain": [
       "['The Strokes',\n",
       " 'Shakey Graves',\n",
       " 'Alabama Shakes',\n",
       " 'Leon Bridges',\n",
       " 'Grizzly Bear',\n",
       " 'Dr. Dog',\n",
       " 'Emile Mosseri',\n",
       " 'Tame Impala',\n",
       " 'Ra Ra Riot',\n",
       " 'Angel Olsen',\n",
       " 'Harold Budd',\n",
       " 'Neutral Milk Hotel',\n",
       " 'Cherry Glazerr',\n",
       " 'Clap Your Hands Say Yeah',\n",
       " 'Bleachers',\n",
       " 'Perfume Genius',\n",
       " 'flora cash',\n",
       " \"David O'Dowda\",\n",
       " 'Fleet Foxes',\n",
       " 'Big Thief',\n",
       " 'Ezra Furman',\n",
       " 'Dirty Projectors',\n",
       " 'Deakin',\n",
       " 'Local Natives',\n",
       " 'Spoon',\n",
       " 'Vampire Weekend',\n",
       " 'DeVotchKa',\n",
       " 'Thee Oh Sees',\n",
       " 'Dan Auerbach',\n",
       " 'Father John Misty',\n",
       " 'Aldous Harding',\n",
       " 'Ty Segall',\n",
       " 'Patrick Watson',\n",
       " 'Dan Deacon',\n",
       " 'Los Retros',\n",
       " 'Dawes',\n",
       " 'Andrew Bird',\n",
       " 'Steve Lacy',\n",
       " 'Deerhunter',\n",
       " 'The Dip',\n",
       " 'Modest Mouse',\n",
       " 'Rostam',\n",
       " 'Nick Mulvey',\n",
       " 'Mario Jose',\n",
       " 'Charles Jones',\n",
       " 'Scary Pockets',\n",
       " 'Amen Dunes',\n",
       " 'Vulfpeck',\n",
       " 'The Shins',\n",
       " 'Langhorne Slim',\n",
       " 'Mitski',\n",
       " 'Junip',\n",
       " 'Heartless Bastards',\n",
       " 'Mob Rich',\n",
       " 'Julia Jacklin',\n",
       " 'Lucy Dacus',\n",
       " 'Bahamas',\n",
       " 'Alvvays',\n",
       " 'Abby Celso',\n",
       " 'Lake Street Dive',\n",
       " 'Rozzi Crane',\n",
       " 'Cocteau Twins',\n",
       " 'Ashe',\n",
       " 'Fuzz',\n",
       " 'RY X',\n",
       " 'Delta Spirit',\n",
       " 'Beirut',\n",
       " 'Emily King',\n",
       " 'Phosphorescent',\n",
       " 'Moses Sumney']"
      ]
     },
     "execution_count": 10,
     "metadata": {},
     "output_type": "execute_result"
    }
   ],
   "source": [
    "vetting_playlist_artists"
   ]
  },
  {
   "cell_type": "code",
   "execution_count": 11,
   "metadata": {},
   "outputs": [
    {
     "name": "stdout",
     "output_type": "stream",
     "text": [
      "Artist: Lana Del rey, Popularity: 90\n"
     ]
    }
   ],
   "source": [
    "artist_name = 'Lana Del rey'\n",
    "\n",
    "# Search for the artist\n",
    "results = sp.search(q='artist:' + artist_name, type='artist')\n",
    "\n",
    "# Get the artist's information\n",
    "if results['artists']['items']:\n",
    "    artist = results['artists']['items'][0]\n",
    "    popularity = artist['popularity']\n",
    "    print(f\"Artist: {artist_name}, Popularity: {popularity}\")\n",
    "else:\n",
    "    print(f\"Artist '{artist_name}' not found.\")"
   ]
  },
  {
   "cell_type": "code",
   "execution_count": null,
   "metadata": {},
   "outputs": [],
   "source": []
  }
 ],
 "metadata": {
  "kernelspec": {
   "display_name": "Python 3 (ipykernel)",
   "language": "python",
   "name": "python3"
  },
  "language_info": {
   "codemirror_mode": {
    "name": "ipython",
    "version": 3
   },
   "file_extension": ".py",
   "mimetype": "text/x-python",
   "name": "python",
   "nbconvert_exporter": "python",
   "pygments_lexer": "ipython3",
   "version": "3.9.13"
  }
 },
 "nbformat": 4,
 "nbformat_minor": 2
}
