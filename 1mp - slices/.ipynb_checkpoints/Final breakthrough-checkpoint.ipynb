{
 "cells": [
  {
   "cell_type": "code",
   "execution_count": 1,
   "id": "3195baa5",
   "metadata": {},
   "outputs": [],
   "source": [
    "import pandas as pd\n",
    "import json \n",
    "from collections import Counter \n",
    "import spotipy \n",
    "from spotipy.oauth2 import SpotifyClientCredentials"
   ]
  },
  {
   "cell_type": "code",
   "execution_count": 2,
   "id": "aa54c34b",
   "metadata": {},
   "outputs": [],
   "source": [
    "vetting_playlist = open('Vetting_Playlist.json' , \"r\")\n",
    "data = json.load(vetting_playlist)"
   ]
  },
  {
   "cell_type": "code",
   "execution_count": 3,
   "id": "90b97e2c",
   "metadata": {},
   "outputs": [],
   "source": [
    "vetting_playlist_songs = []\n",
    "vetting_playlist_artists = []\n",
    "for i in data['tracks']['items']:\n",
    "    vetting_playlist_songs.append(i['track']['name'])\n",
    "    for j in i['track']['artists']:\n",
    "        vetting_playlist_artists.append(j['name'])\n",
    "vetting_playlist_artists = list(set(vetting_playlist_artists))\n",
    "vetting_playlist_songs = list(set(vetting_playlist_songs))"
   ]
  },
  {
   "cell_type": "code",
   "execution_count": 4,
   "id": "392945be",
   "metadata": {},
   "outputs": [],
   "source": [
    "client_id = 'ac3a715b37034a6991acae9ebd84a3eb'\n",
    "client_secret = 'd0bf822b756d434ab03cf07e06be8f7c'\n",
    "client_credentials_manager = SpotifyClientCredentials(client_id=client_id, client_secret=client_secret)\n",
    "sp = spotipy.Spotify(client_credentials_manager=client_credentials_manager)"
   ]
  },
  {
   "cell_type": "code",
   "execution_count": 5,
   "id": "4fd981c6",
   "metadata": {},
   "outputs": [],
   "source": [
    "entries1000 = open(\"mpd.slice.0-999.json\", \"r\")\n",
    "data1 = json.load(entries1000)\n",
    "data2 = json.load(open(\"mpd.slice.1000-1999.json\", \"r\"))\n",
    "data3 = json.load(open(\"mpd.slice.2000-2999.json\", \"r\"))\n",
    "data4 = json.load(open(\"mpd.slice.3000-3999.json\", \"r\"))\n",
    "data5 = json.load(open(\"mpd.slice.4000-4999.json\", \"r\"))\n",
    "playlists1 = data1[\"playlists\"]\n",
    "playlists2 = data2[\"playlists\"]\n",
    "playlists3 = data3[\"playlists\"]\n",
    "playlists4 = data4[\"playlists\"]\n",
    "playlists5 = data5[\"playlists\"]\n",
    "playlistList = []"
   ]
  },
  {
   "cell_type": "code",
   "execution_count": 6,
   "id": "f8fe94c0",
   "metadata": {},
   "outputs": [
    {
     "data": {
      "text/plain": [
       "\"\\nlist of playlists (1000)\\ndictionary value 'tracks'\\nlist of tracks (20+)\\ndictionary value 'artist_name'\\n\""
      ]
     },
     "execution_count": 6,
     "metadata": {},
     "output_type": "execute_result"
    }
   ],
   "source": [
    "\"\"\"\n",
    "list of playlists (1000)\n",
    "dictionary value 'tracks'\n",
    "list of tracks (20+)\n",
    "dictionary value 'artist_name'\n",
    "\"\"\""
   ]
  },
  {
   "cell_type": "code",
   "execution_count": 7,
   "id": "a072bc62",
   "metadata": {},
   "outputs": [
    {
     "name": "stdout",
     "output_type": "stream",
     "text": [
      "Heartless Bastards: 1 occurrences, 1.43% of total\n",
      "Beirut: 1 occurrences, 1.43% of total\n",
      "Vampire Weekend: 1 occurrences, 1.43% of total\n",
      "Clap Your Hands Say Yeah: 1 occurrences, 1.43% of total\n",
      "Cherry Glazerr: 1 occurrences, 1.43% of total\n",
      "flora cash: 1 occurrences, 1.43% of total\n",
      "Nick Mulvey: 1 occurrences, 1.43% of total\n",
      "Alabama Shakes: 1 occurrences, 1.43% of total\n",
      "Bleachers: 1 occurrences, 1.43% of total\n",
      "Local Natives: 1 occurrences, 1.43% of total\n"
     ]
    }
   ],
   "source": [
    "def find_top_items_with_percentage(lst, top_n=10):\n",
    "    item_counts = Counter(lst)\n",
    "    top_items = item_counts.most_common(top_n)\n",
    "    total_items = len(lst)\n",
    "    for item, count in top_items:\n",
    "        percentage = (count / total_items) * 100\n",
    "        print(f\"{item}: {count} occurrences, {percentage:.2f}% of total\")\n",
    "find_top_items_with_percentage(vetting_playlist_artists)"
   ]
  },
  {
   "cell_type": "code",
   "execution_count": 9,
   "id": "ebeced75",
   "metadata": {},
   "outputs": [],
   "source": [
    "var = playlists1\n",
    "for i in range(len(var)):\n",
    "    # Assuming playlists1000[i] is a dictionary containing the playlist information\n",
    "    # If it's a string, you'll need to convert it to a dictionary first\n",
    "    \n",
    "    # Example of converting a string to a dictionary (if needed)\n",
    "    # playlist_dict = json.loads(playlists1000[i])\n",
    "    \n",
    "    tracks = var[i]['tracks']\n",
    "    for track in tracks:\n",
    "        if track['track_name'] in vetting_playlist_songs:\n",
    "            playlistList.append(var[i][\"name\"])\n",
    "        else: \n",
    "            pass"
   ]
  },
  {
   "cell_type": "code",
   "execution_count": 10,
   "id": "b7b15e86",
   "metadata": {},
   "outputs": [
    {
     "name": "stdout",
     "output_type": "stream",
     "text": [
      "my heart || 12\n"
     ]
    }
   ],
   "source": [
    "name_counts = Counter(playlistList)\n",
    "\n",
    "most_common_name, count = name_counts.most_common(1)[0]\n",
    "\n",
    "print(f'{most_common_name} || {count}')"
   ]
  },
  {
   "cell_type": "code",
   "execution_count": null,
   "id": "2093a0b6",
   "metadata": {},
   "outputs": [],
   "source": [
    "\"\"\"\n",
    "To find the top 200 most common entries from a list of 4000 individual entries, where each repetition adds 1 to the count, you can use the Counter class from the collections module in Python. Here's a basic example of how you can do this:\n",
    "\n",
    "python\n",
    "Copy code\n",
    "from collections import Counter\n",
    "\n",
    "# Example list of entries\n",
    "entries = ['apple', 'banana', 'apple', 'orange', 'apple', 'banana', 'orange', 'apple', 'grape']\n",
    "\n",
    "# Count the occurrences of each entry\n",
    "counts = Counter(entries)\n",
    "\n",
    "# Get the top 200 most common entries\n",
    "top_200 = counts.most_common(200)\n",
    "\n",
    "print(top_200)\n",
    "In this example, entries is a list containing 4000 individual entries, and each repetition adds 1 to the count. The Counter class is used to count the occurrences of each entry, and the most_common method is used to get the top 200 most common entries.\n",
    "\n",
    "You can replace entries with your actual list of 4000 individual entries. The most_common method returns a list of tuples, where each tuple contains an entry and its count.\n",
    "\n",
    "\"\"\"\n",
    "#Chat gpt response https://chat.openai.com/c/34672120-7bae-4864-b4d4-4fa879a61c67"
   ]
  }
 ],
 "metadata": {
  "kernelspec": {
   "display_name": "Python 3 (ipykernel)",
   "language": "python",
   "name": "python3"
  },
  "language_info": {
   "codemirror_mode": {
    "name": "ipython",
    "version": 3
   },
   "file_extension": ".py",
   "mimetype": "text/x-python",
   "name": "python",
   "nbconvert_exporter": "python",
   "pygments_lexer": "ipython3",
   "version": "3.9.13"
  }
 },
 "nbformat": 4,
 "nbformat_minor": 5
}
