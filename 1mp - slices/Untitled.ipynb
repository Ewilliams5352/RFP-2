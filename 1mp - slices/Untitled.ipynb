{
 "cells": [
  {
   "cell_type": "code",
   "execution_count": 1,
   "id": "1a96f436",
   "metadata": {},
   "outputs": [],
   "source": [
    "import pandas as pd\n",
    "import json\n",
    "from sklearn.cluster import MiniBatchKMeans\n",
    "from sklearn.preprocessing import StandardScaler\n",
    "from sklearn.cluster import MeanShift\n",
    "from sklearn.cluster import AgglomerativeClustering"
   ]
  },
  {
   "cell_type": "code",
   "execution_count": 2,
   "id": "5aef0d66",
   "metadata": {},
   "outputs": [],
   "source": [
    "df1 = pd.read_json('albums_0-999.json')\n",
    "df2 = pd.read_json('artists_0-999.json')\n",
    "df3 = pd.read_json('songs_0-999.json')\n",
    "df1 = df1.transpose()\n",
    "df2 = df2.transpose()\n",
    "df3 = df3.transpose()"
   ]
  },
  {
   "cell_type": "code",
   "execution_count": 3,
   "id": "9c9aa48c",
   "metadata": {},
   "outputs": [],
   "source": [
    "# List of columns to drop\n",
    "columns_to_drop_1 = [\"copyrights\", \"external_ids\", \"external_urls\", \"href\", \"images\", \"tracks\", \"uri\"]\n",
    "columns_to_drop_2 = ['external_urls', 'href', 'images', 'uri']  \n",
    "columns_to_drop_3 = [\"external_ids\", \"external_urls\", \"href\", \"preview_url\", \"uri\"]\n",
    "# Drop columns\n",
    "df1.drop(columns=columns_to_drop_1, inplace=True)\n",
    "df2.drop(columns=columns_to_drop_2, inplace=True)\n",
    "df3.drop(columns=columns_to_drop_3, inplace=True)"
   ]
  },
  {
   "cell_type": "code",
   "execution_count": 4,
   "id": "f77ff029",
   "metadata": {},
   "outputs": [
    {
     "name": "stdout",
     "output_type": "stream",
     "text": [
      "<class 'pandas.core.frame.DataFrame'>\n",
      "Index: 19261 entries, 6vV5UrXcfyQD1wu4Qo2I9K to 7D6Y19tjm4DQNch39FeWpO\n",
      "Data columns (total 12 columns):\n",
      " #   Column                  Non-Null Count  Dtype \n",
      "---  ------                  --------------  ----- \n",
      " 0   album_type              18478 non-null  object\n",
      " 1   artists                 18478 non-null  object\n",
      " 2   available_markets       18478 non-null  object\n",
      " 3   genres                  18478 non-null  object\n",
      " 4   id                      18478 non-null  object\n",
      " 5   label                   18469 non-null  object\n",
      " 6   name                    18478 non-null  object\n",
      " 7   popularity              18478 non-null  object\n",
      " 8   release_date            18478 non-null  object\n",
      " 9   release_date_precision  18478 non-null  object\n",
      " 10  total_tracks            18478 non-null  object\n",
      " 11  type                    18478 non-null  object\n",
      "dtypes: object(12)\n",
      "memory usage: 2.4+ MB\n"
     ]
    }
   ],
   "source": [
    "df1.info()"
   ]
  },
  {
   "cell_type": "code",
   "execution_count": 5,
   "id": "d3916227",
   "metadata": {},
   "outputs": [
    {
     "name": "stdout",
     "output_type": "stream",
     "text": [
      "<class 'pandas.core.frame.DataFrame'>\n",
      "Index: 9723 entries, 2wIVse2owClT7go1WT98tk to 77bNdkKYBBmc30CisCA6tE\n",
      "Data columns (total 6 columns):\n",
      " #   Column      Non-Null Count  Dtype \n",
      "---  ------      --------------  ----- \n",
      " 0   followers   9723 non-null   object\n",
      " 1   genres      9723 non-null   object\n",
      " 2   id          9723 non-null   object\n",
      " 3   name        9723 non-null   object\n",
      " 4   popularity  9723 non-null   object\n",
      " 5   type        9723 non-null   object\n",
      "dtypes: object(6)\n",
      "memory usage: 789.8+ KB\n"
     ]
    }
   ],
   "source": [
    "df2.info()"
   ]
  },
  {
   "cell_type": "code",
   "execution_count": 6,
   "id": "9c4c18ff",
   "metadata": {},
   "outputs": [
    {
     "name": "stdout",
     "output_type": "stream",
     "text": [
      "<class 'pandas.core.frame.DataFrame'>\n",
      "Index: 34441 entries, 0UaMYEvWZi0ZqiDOoHU3YI to 5RVuBrXVLptAEbGJdSDzL5\n",
      "Data columns (total 12 columns):\n",
      " #   Column             Non-Null Count  Dtype \n",
      "---  ------             --------------  ----- \n",
      " 0   album              34441 non-null  object\n",
      " 1   artists            34441 non-null  object\n",
      " 2   available_markets  34441 non-null  object\n",
      " 3   disc_number        34441 non-null  object\n",
      " 4   duration_ms        34441 non-null  object\n",
      " 5   explicit           34441 non-null  object\n",
      " 6   id                 34441 non-null  object\n",
      " 7   is_local           34441 non-null  object\n",
      " 8   name               34441 non-null  object\n",
      " 9   popularity         34441 non-null  object\n",
      " 10  track_number       34441 non-null  object\n",
      " 11  type               34441 non-null  object\n",
      "dtypes: object(12)\n",
      "memory usage: 4.4+ MB\n"
     ]
    }
   ],
   "source": [
    "df3.info()"
   ]
  },
  {
   "cell_type": "code",
   "execution_count": 13,
   "id": "8058ddb1",
   "metadata": {},
   "outputs": [
    {
     "name": "stdout",
     "output_type": "stream",
     "text": [
      "{'album_type': 'album', 'artists': [{'external_urls': {'spotify': 'https://open.spotify.com/artist/2wIVse2owClT7go1WT98tk'}, 'href': 'https://api.spotify.com/v1/artists/2wIVse2owClT7go1WT98tk', 'id': '2wIVse2owClT7go1WT98tk', 'name': 'Missy Elliott', 'type': 'artist', 'uri': 'spotify:artist:2wIVse2owClT7go1WT98tk'}], 'available_markets': ['AR', 'AU', 'AT', 'BE', 'BO', 'BR', 'BG', 'CA', 'CL', 'CO', 'CR', 'CY', 'CZ', 'DK', 'DO', 'DE', 'EC', 'EE', 'SV', 'FI', 'FR', 'GR', 'GT', 'HN', 'HK', 'HU', 'IS', 'IE', 'IT', 'LV', 'LT', 'LU', 'MY', 'MT', 'MX', 'NL', 'NZ', 'NI', 'NO', 'PA', 'PY', 'PE', 'PH', 'PL', 'PT', 'SG', 'SK', 'ES', 'SE', 'CH', 'TW', 'TR', 'UY', 'US', 'GB', 'AD', 'LI', 'MC', 'ID', 'JP', 'TH', 'VN', 'RO', 'IL', 'ZA', 'SA', 'AE', 'BH', 'QA', 'OM', 'KW', 'EG', 'MA', 'DZ', 'TN', 'LB', 'JO', 'PS', 'IN', 'BY', 'KZ', 'MD', 'UA', 'AL', 'BA', 'HR', 'ME', 'MK', 'RS', 'SI', 'KR', 'BD', 'PK', 'LK', 'GH', 'KE', 'NG', 'TZ', 'UG', 'AG', 'AM', 'BS', 'BB', 'BZ', 'BT', 'BW', 'BF', 'CV', 'CW', 'DM', 'FJ', 'GM', 'GE', 'GD', 'GW', 'GY', 'HT', 'JM', 'KI', 'LS', 'LR', 'MW', 'MV', 'ML', 'MH', 'FM', 'NA', 'NR', 'NE', 'PW', 'PG', 'WS', 'SM', 'ST', 'SN', 'SC', 'SL', 'SB', 'KN', 'LC', 'VC', 'SR', 'TL', 'TO', 'TT', 'TV', 'VU', 'AZ', 'BN', 'BI', 'KH', 'CM', 'TD', 'KM', 'GQ', 'SZ', 'GA', 'GN', 'KG', 'LA', 'MO', 'MR', 'MN', 'NP', 'RW', 'TG', 'UZ', 'ZW', 'BJ', 'MG', 'MU', 'MZ', 'AO', 'CI', 'DJ', 'ZM', 'CD', 'CG', 'IQ', 'LY', 'TJ', 'VE', 'ET', 'XK'], 'external_urls': {'spotify': 'https://open.spotify.com/album/6vV5UrXcfyQD1wu4Qo2I9K'}, 'href': 'https://api.spotify.com/v1/albums/6vV5UrXcfyQD1wu4Qo2I9K', 'id': '6vV5UrXcfyQD1wu4Qo2I9K', 'images': [{'height': 640, 'url': 'https://i.scdn.co/image/ab67616d0000b273f1dfae21eaac0d24fb3dcf5a', 'width': 640}, {'height': 300, 'url': 'https://i.scdn.co/image/ab67616d00001e02f1dfae21eaac0d24fb3dcf5a', 'width': 300}, {'height': 64, 'url': 'https://i.scdn.co/image/ab67616d00004851f1dfae21eaac0d24fb3dcf5a', 'width': 64}], 'name': 'The Cookbook', 'release_date': '2005-07-04', 'release_date_precision': 'day', 'total_tracks': 16, 'type': 'album', 'uri': 'spotify:album:6vV5UrXcfyQD1wu4Qo2I9K'}\n"
     ]
    }
   ],
   "source": [
    "i = 0\n",
    "#print(df3[\"album\"][i][\"artists\"])\n",
    "print(df3[\"album\"][i])"
   ]
  },
  {
   "cell_type": "code",
   "execution_count": 7,
   "id": "2fbc0a78",
   "metadata": {
    "scrolled": true
   },
   "outputs": [
    {
     "data": {
      "text/html": [
       "<div>\n",
       "<style scoped>\n",
       "    .dataframe tbody tr th:only-of-type {\n",
       "        vertical-align: middle;\n",
       "    }\n",
       "\n",
       "    .dataframe tbody tr th {\n",
       "        vertical-align: top;\n",
       "    }\n",
       "\n",
       "    .dataframe thead th {\n",
       "        text-align: right;\n",
       "    }\n",
       "</style>\n",
       "<table border=\"1\" class=\"dataframe\">\n",
       "  <thead>\n",
       "    <tr style=\"text-align: right;\">\n",
       "      <th></th>\n",
       "      <th>album_type</th>\n",
       "      <th>artists</th>\n",
       "      <th>available_markets</th>\n",
       "      <th>genres</th>\n",
       "      <th>id</th>\n",
       "      <th>label</th>\n",
       "      <th>name</th>\n",
       "      <th>popularity</th>\n",
       "      <th>release_date</th>\n",
       "      <th>release_date_precision</th>\n",
       "      <th>total_tracks</th>\n",
       "      <th>type</th>\n",
       "    </tr>\n",
       "  </thead>\n",
       "  <tbody>\n",
       "    <tr>\n",
       "      <th>6vV5UrXcfyQD1wu4Qo2I9K</th>\n",
       "      <td>album</td>\n",
       "      <td>[{'external_urls': {'spotify': 'https://open.s...</td>\n",
       "      <td>[AR, AU, AT, BE, BO, BR, BG, CA, CL, CO, CR, C...</td>\n",
       "      <td>[]</td>\n",
       "      <td>6vV5UrXcfyQD1wu4Qo2I9K</td>\n",
       "      <td>Atlantic Records/ATG</td>\n",
       "      <td>The Cookbook</td>\n",
       "      <td>64</td>\n",
       "      <td>2005-07-04</td>\n",
       "      <td>day</td>\n",
       "      <td>16</td>\n",
       "      <td>album</td>\n",
       "    </tr>\n",
       "    <tr>\n",
       "      <th>0z7pVBGOD7HCIB7S8eLkLI</th>\n",
       "      <td>album</td>\n",
       "      <td>[{'external_urls': {'spotify': 'https://open.s...</td>\n",
       "      <td>[AR, AU, AT, BE, BO, BR, BG, CA, CL, CO, CR, C...</td>\n",
       "      <td>[]</td>\n",
       "      <td>0z7pVBGOD7HCIB7S8eLkLI</td>\n",
       "      <td>Jive</td>\n",
       "      <td>In The Zone</td>\n",
       "      <td>80</td>\n",
       "      <td>2003-11-13</td>\n",
       "      <td>day</td>\n",
       "      <td>13</td>\n",
       "      <td>album</td>\n",
       "    </tr>\n",
       "    <tr>\n",
       "      <th>25hVFAxTlDvXbx2X2QkUkE</th>\n",
       "      <td>album</td>\n",
       "      <td>[{'external_urls': {'spotify': 'https://open.s...</td>\n",
       "      <td>[CH, LI]</td>\n",
       "      <td>[]</td>\n",
       "      <td>25hVFAxTlDvXbx2X2QkUkE</td>\n",
       "      <td>Columbia</td>\n",
       "      <td>Dangerously In Love (Alben für die Ewigkeit)</td>\n",
       "      <td>17</td>\n",
       "      <td>2003-06-23</td>\n",
       "      <td>day</td>\n",
       "      <td>16</td>\n",
       "      <td>album</td>\n",
       "    </tr>\n",
       "    <tr>\n",
       "      <th>6QPkyl04rXwTGlGlcYaRoW</th>\n",
       "      <td>album</td>\n",
       "      <td>[{'external_urls': {'spotify': 'https://open.s...</td>\n",
       "      <td>[AR, AU, AT, BE, BO, BR, BG, CA, CL, CO, CR, C...</td>\n",
       "      <td>[]</td>\n",
       "      <td>6QPkyl04rXwTGlGlcYaRoW</td>\n",
       "      <td>Jive</td>\n",
       "      <td>Justified</td>\n",
       "      <td>80</td>\n",
       "      <td>2002-11-04</td>\n",
       "      <td>day</td>\n",
       "      <td>13</td>\n",
       "      <td>album</td>\n",
       "    </tr>\n",
       "    <tr>\n",
       "      <th>6NmFmPX56pcLBOFMhIiKvF</th>\n",
       "      <td>album</td>\n",
       "      <td>[{'external_urls': {'spotify': 'https://open.s...</td>\n",
       "      <td>[]</td>\n",
       "      <td>[]</td>\n",
       "      <td>6NmFmPX56pcLBOFMhIiKvF</td>\n",
       "      <td>Geffen</td>\n",
       "      <td>Hot Shot (International Version #2)</td>\n",
       "      <td>5</td>\n",
       "      <td>2000</td>\n",
       "      <td>year</td>\n",
       "      <td>15</td>\n",
       "      <td>album</td>\n",
       "    </tr>\n",
       "  </tbody>\n",
       "</table>\n",
       "</div>"
      ],
      "text/plain": [
       "                       album_type  \\\n",
       "6vV5UrXcfyQD1wu4Qo2I9K      album   \n",
       "0z7pVBGOD7HCIB7S8eLkLI      album   \n",
       "25hVFAxTlDvXbx2X2QkUkE      album   \n",
       "6QPkyl04rXwTGlGlcYaRoW      album   \n",
       "6NmFmPX56pcLBOFMhIiKvF      album   \n",
       "\n",
       "                                                                  artists  \\\n",
       "6vV5UrXcfyQD1wu4Qo2I9K  [{'external_urls': {'spotify': 'https://open.s...   \n",
       "0z7pVBGOD7HCIB7S8eLkLI  [{'external_urls': {'spotify': 'https://open.s...   \n",
       "25hVFAxTlDvXbx2X2QkUkE  [{'external_urls': {'spotify': 'https://open.s...   \n",
       "6QPkyl04rXwTGlGlcYaRoW  [{'external_urls': {'spotify': 'https://open.s...   \n",
       "6NmFmPX56pcLBOFMhIiKvF  [{'external_urls': {'spotify': 'https://open.s...   \n",
       "\n",
       "                                                        available_markets  \\\n",
       "6vV5UrXcfyQD1wu4Qo2I9K  [AR, AU, AT, BE, BO, BR, BG, CA, CL, CO, CR, C...   \n",
       "0z7pVBGOD7HCIB7S8eLkLI  [AR, AU, AT, BE, BO, BR, BG, CA, CL, CO, CR, C...   \n",
       "25hVFAxTlDvXbx2X2QkUkE                                           [CH, LI]   \n",
       "6QPkyl04rXwTGlGlcYaRoW  [AR, AU, AT, BE, BO, BR, BG, CA, CL, CO, CR, C...   \n",
       "6NmFmPX56pcLBOFMhIiKvF                                                 []   \n",
       "\n",
       "                       genres                      id                 label  \\\n",
       "6vV5UrXcfyQD1wu4Qo2I9K     []  6vV5UrXcfyQD1wu4Qo2I9K  Atlantic Records/ATG   \n",
       "0z7pVBGOD7HCIB7S8eLkLI     []  0z7pVBGOD7HCIB7S8eLkLI                  Jive   \n",
       "25hVFAxTlDvXbx2X2QkUkE     []  25hVFAxTlDvXbx2X2QkUkE              Columbia   \n",
       "6QPkyl04rXwTGlGlcYaRoW     []  6QPkyl04rXwTGlGlcYaRoW                  Jive   \n",
       "6NmFmPX56pcLBOFMhIiKvF     []  6NmFmPX56pcLBOFMhIiKvF                Geffen   \n",
       "\n",
       "                                                                name  \\\n",
       "6vV5UrXcfyQD1wu4Qo2I9K                                  The Cookbook   \n",
       "0z7pVBGOD7HCIB7S8eLkLI                                   In The Zone   \n",
       "25hVFAxTlDvXbx2X2QkUkE  Dangerously In Love (Alben für die Ewigkeit)   \n",
       "6QPkyl04rXwTGlGlcYaRoW                                     Justified   \n",
       "6NmFmPX56pcLBOFMhIiKvF           Hot Shot (International Version #2)   \n",
       "\n",
       "                       popularity release_date release_date_precision  \\\n",
       "6vV5UrXcfyQD1wu4Qo2I9K         64   2005-07-04                    day   \n",
       "0z7pVBGOD7HCIB7S8eLkLI         80   2003-11-13                    day   \n",
       "25hVFAxTlDvXbx2X2QkUkE         17   2003-06-23                    day   \n",
       "6QPkyl04rXwTGlGlcYaRoW         80   2002-11-04                    day   \n",
       "6NmFmPX56pcLBOFMhIiKvF          5         2000                   year   \n",
       "\n",
       "                       total_tracks   type  \n",
       "6vV5UrXcfyQD1wu4Qo2I9K           16  album  \n",
       "0z7pVBGOD7HCIB7S8eLkLI           13  album  \n",
       "25hVFAxTlDvXbx2X2QkUkE           16  album  \n",
       "6QPkyl04rXwTGlGlcYaRoW           13  album  \n",
       "6NmFmPX56pcLBOFMhIiKvF           15  album  "
      ]
     },
     "execution_count": 7,
     "metadata": {},
     "output_type": "execute_result"
    }
   ],
   "source": [
    "df1.head()"
   ]
  },
  {
   "cell_type": "code",
   "execution_count": null,
   "id": "7ccbb00e",
   "metadata": {},
   "outputs": [],
   "source": []
  }
 ],
 "metadata": {
  "kernelspec": {
   "display_name": "Python 3 (ipykernel)",
   "language": "python",
   "name": "python3"
  },
  "language_info": {
   "codemirror_mode": {
    "name": "ipython",
    "version": 3
   },
   "file_extension": ".py",
   "mimetype": "text/x-python",
   "name": "python",
   "nbconvert_exporter": "python",
   "pygments_lexer": "ipython3",
   "version": "3.9.13"
  }
 },
 "nbformat": 4,
 "nbformat_minor": 5
}
