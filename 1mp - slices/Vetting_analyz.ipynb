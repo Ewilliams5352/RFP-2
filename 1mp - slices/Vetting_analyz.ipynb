{
 "cells": [
  {
   "cell_type": "code",
   "execution_count": 1,
   "id": "3601f9c4",
   "metadata": {},
   "outputs": [],
   "source": [
    "import json\n",
    "import pandas as pd"
   ]
  },
  {
   "cell_type": "code",
   "execution_count": 2,
   "id": "b7d852bb",
   "metadata": {},
   "outputs": [
    {
     "name": "stdout",
     "output_type": "stream",
     "text": [
      "dict_keys(['collaborative', 'description', 'external_urls', 'followers', 'href', 'id', 'images', 'name', 'owner', 'primary_color', 'public', 'snapshot_id', 'tracks', 'type', 'uri'])\n"
     ]
    }
   ],
   "source": [
    "with open('Vetting_Playlist.json', 'r') as f:\n",
    "    data = json.load(f)\n",
    "\n",
    "print(data.keys())"
   ]
  },
  {
   "cell_type": "code",
   "execution_count": 3,
   "id": "2167e16a",
   "metadata": {},
   "outputs": [],
   "source": [
    "tracks_data = data[\"tracks\"]"
   ]
  },
  {
   "cell_type": "code",
   "execution_count": 4,
   "id": "0005821a",
   "metadata": {},
   "outputs": [],
   "source": [
    "df = pd.DataFrame(tracks_data)\n"
   ]
  },
  {
   "cell_type": "code",
   "execution_count": 5,
   "id": "efa2a92d",
   "metadata": {},
   "outputs": [],
   "source": [
    "columns_to_drop = [\"href\", \"next\", \"limit\", \"offset\", \"previous\", \"total\"]\n",
    "df.drop(columns=columns_to_drop, inplace=True)"
   ]
  },
  {
   "cell_type": "code",
   "execution_count": 6,
   "id": "9b20d265",
   "metadata": {},
   "outputs": [],
   "source": [
    "ndf = pd.DataFrame(df[\"items\"].tolist())"
   ]
  },
  {
   "cell_type": "code",
   "execution_count": 7,
   "id": "3a8d77f3",
   "metadata": {},
   "outputs": [
    {
     "name": "stdout",
     "output_type": "stream",
     "text": [
      "<class 'pandas.core.frame.DataFrame'>\n",
      "RangeIndex: 100 entries, 0 to 99\n",
      "Data columns (total 6 columns):\n",
      " #   Column           Non-Null Count  Dtype \n",
      "---  ------           --------------  ----- \n",
      " 0   added_at         100 non-null    object\n",
      " 1   added_by         100 non-null    object\n",
      " 2   is_local         100 non-null    bool  \n",
      " 3   primary_color    0 non-null      object\n",
      " 4   track            100 non-null    object\n",
      " 5   video_thumbnail  100 non-null    object\n",
      "dtypes: bool(1), object(5)\n",
      "memory usage: 4.1+ KB\n"
     ]
    }
   ],
   "source": [
    "ndf.info()"
   ]
  },
  {
   "cell_type": "code",
   "execution_count": 8,
   "id": "d0b795a3",
   "metadata": {},
   "outputs": [
    {
     "data": {
      "text/html": [
       "<div>\n",
       "<style scoped>\n",
       "    .dataframe tbody tr th:only-of-type {\n",
       "        vertical-align: middle;\n",
       "    }\n",
       "\n",
       "    .dataframe tbody tr th {\n",
       "        vertical-align: top;\n",
       "    }\n",
       "\n",
       "    .dataframe thead th {\n",
       "        text-align: right;\n",
       "    }\n",
       "</style>\n",
       "<table border=\"1\" class=\"dataframe\">\n",
       "  <thead>\n",
       "    <tr style=\"text-align: right;\">\n",
       "      <th></th>\n",
       "      <th>added_at</th>\n",
       "      <th>added_by</th>\n",
       "      <th>is_local</th>\n",
       "      <th>primary_color</th>\n",
       "      <th>track</th>\n",
       "      <th>video_thumbnail</th>\n",
       "    </tr>\n",
       "  </thead>\n",
       "  <tbody>\n",
       "    <tr>\n",
       "      <th>0</th>\n",
       "      <td>2017-04-15T00:53:05Z</td>\n",
       "      <td>{'external_urls': {'spotify': 'https://open.sp...</td>\n",
       "      <td>False</td>\n",
       "      <td>None</td>\n",
       "      <td>{'album': {'album_type': 'album', 'artists': [...</td>\n",
       "      <td>{'url': None}</td>\n",
       "    </tr>\n",
       "    <tr>\n",
       "      <th>1</th>\n",
       "      <td>2017-04-15T00:54:34Z</td>\n",
       "      <td>{'external_urls': {'spotify': 'https://open.sp...</td>\n",
       "      <td>False</td>\n",
       "      <td>None</td>\n",
       "      <td>{'album': {'album_type': 'single', 'artists': ...</td>\n",
       "      <td>{'url': None}</td>\n",
       "    </tr>\n",
       "    <tr>\n",
       "      <th>2</th>\n",
       "      <td>2017-04-15T00:55:17Z</td>\n",
       "      <td>{'external_urls': {'spotify': 'https://open.sp...</td>\n",
       "      <td>False</td>\n",
       "      <td>None</td>\n",
       "      <td>{'album': {'album_type': 'album', 'artists': [...</td>\n",
       "      <td>{'url': None}</td>\n",
       "    </tr>\n",
       "    <tr>\n",
       "      <th>3</th>\n",
       "      <td>2017-04-15T00:58:29Z</td>\n",
       "      <td>{'external_urls': {'spotify': 'https://open.sp...</td>\n",
       "      <td>False</td>\n",
       "      <td>None</td>\n",
       "      <td>{'album': {'album_type': 'album', 'artists': [...</td>\n",
       "      <td>{'url': None}</td>\n",
       "    </tr>\n",
       "    <tr>\n",
       "      <th>4</th>\n",
       "      <td>2017-04-21T17:02:44Z</td>\n",
       "      <td>{'external_urls': {'spotify': 'https://open.sp...</td>\n",
       "      <td>False</td>\n",
       "      <td>None</td>\n",
       "      <td>{'album': {'album_type': 'album', 'artists': [...</td>\n",
       "      <td>{'url': None}</td>\n",
       "    </tr>\n",
       "  </tbody>\n",
       "</table>\n",
       "</div>"
      ],
      "text/plain": [
       "               added_at                                           added_by  \\\n",
       "0  2017-04-15T00:53:05Z  {'external_urls': {'spotify': 'https://open.sp...   \n",
       "1  2017-04-15T00:54:34Z  {'external_urls': {'spotify': 'https://open.sp...   \n",
       "2  2017-04-15T00:55:17Z  {'external_urls': {'spotify': 'https://open.sp...   \n",
       "3  2017-04-15T00:58:29Z  {'external_urls': {'spotify': 'https://open.sp...   \n",
       "4  2017-04-21T17:02:44Z  {'external_urls': {'spotify': 'https://open.sp...   \n",
       "\n",
       "   is_local primary_color                                              track  \\\n",
       "0     False          None  {'album': {'album_type': 'album', 'artists': [...   \n",
       "1     False          None  {'album': {'album_type': 'single', 'artists': ...   \n",
       "2     False          None  {'album': {'album_type': 'album', 'artists': [...   \n",
       "3     False          None  {'album': {'album_type': 'album', 'artists': [...   \n",
       "4     False          None  {'album': {'album_type': 'album', 'artists': [...   \n",
       "\n",
       "  video_thumbnail  \n",
       "0   {'url': None}  \n",
       "1   {'url': None}  \n",
       "2   {'url': None}  \n",
       "3   {'url': None}  \n",
       "4   {'url': None}  "
      ]
     },
     "execution_count": 8,
     "metadata": {},
     "output_type": "execute_result"
    }
   ],
   "source": [
    "ndf.head()"
   ]
  },
  {
   "cell_type": "code",
   "execution_count": 16,
   "id": "08fa32ad",
   "metadata": {},
   "outputs": [],
   "source": [
    "ncolumns_to_drop = [\"is_local\", \"primary_color\", \"video_thumbnail\", \"added_by\"]\n",
    "ndf.drop(columns=ncolumns_to_drop, inplace=True)"
   ]
  },
  {
   "cell_type": "code",
   "execution_count": 17,
   "id": "43911c49",
   "metadata": {},
   "outputs": [
    {
     "data": {
      "text/html": [
       "<div>\n",
       "<style scoped>\n",
       "    .dataframe tbody tr th:only-of-type {\n",
       "        vertical-align: middle;\n",
       "    }\n",
       "\n",
       "    .dataframe tbody tr th {\n",
       "        vertical-align: top;\n",
       "    }\n",
       "\n",
       "    .dataframe thead th {\n",
       "        text-align: right;\n",
       "    }\n",
       "</style>\n",
       "<table border=\"1\" class=\"dataframe\">\n",
       "  <thead>\n",
       "    <tr style=\"text-align: right;\">\n",
       "      <th></th>\n",
       "      <th>added_at</th>\n",
       "      <th>added_by</th>\n",
       "      <th>track</th>\n",
       "    </tr>\n",
       "  </thead>\n",
       "  <tbody>\n",
       "    <tr>\n",
       "      <th>0</th>\n",
       "      <td>2017-04-15T00:53:05Z</td>\n",
       "      <td>{'external_urls': {'spotify': 'https://open.sp...</td>\n",
       "      <td>{'album': {'album_type': 'album', 'artists': [...</td>\n",
       "    </tr>\n",
       "    <tr>\n",
       "      <th>1</th>\n",
       "      <td>2017-04-15T00:54:34Z</td>\n",
       "      <td>{'external_urls': {'spotify': 'https://open.sp...</td>\n",
       "      <td>{'album': {'album_type': 'single', 'artists': ...</td>\n",
       "    </tr>\n",
       "    <tr>\n",
       "      <th>2</th>\n",
       "      <td>2017-04-15T00:55:17Z</td>\n",
       "      <td>{'external_urls': {'spotify': 'https://open.sp...</td>\n",
       "      <td>{'album': {'album_type': 'album', 'artists': [...</td>\n",
       "    </tr>\n",
       "    <tr>\n",
       "      <th>3</th>\n",
       "      <td>2017-04-15T00:58:29Z</td>\n",
       "      <td>{'external_urls': {'spotify': 'https://open.sp...</td>\n",
       "      <td>{'album': {'album_type': 'album', 'artists': [...</td>\n",
       "    </tr>\n",
       "    <tr>\n",
       "      <th>4</th>\n",
       "      <td>2017-04-21T17:02:44Z</td>\n",
       "      <td>{'external_urls': {'spotify': 'https://open.sp...</td>\n",
       "      <td>{'album': {'album_type': 'album', 'artists': [...</td>\n",
       "    </tr>\n",
       "  </tbody>\n",
       "</table>\n",
       "</div>"
      ],
      "text/plain": [
       "               added_at                                           added_by  \\\n",
       "0  2017-04-15T00:53:05Z  {'external_urls': {'spotify': 'https://open.sp...   \n",
       "1  2017-04-15T00:54:34Z  {'external_urls': {'spotify': 'https://open.sp...   \n",
       "2  2017-04-15T00:55:17Z  {'external_urls': {'spotify': 'https://open.sp...   \n",
       "3  2017-04-15T00:58:29Z  {'external_urls': {'spotify': 'https://open.sp...   \n",
       "4  2017-04-21T17:02:44Z  {'external_urls': {'spotify': 'https://open.sp...   \n",
       "\n",
       "                                               track  \n",
       "0  {'album': {'album_type': 'album', 'artists': [...  \n",
       "1  {'album': {'album_type': 'single', 'artists': ...  \n",
       "2  {'album': {'album_type': 'album', 'artists': [...  \n",
       "3  {'album': {'album_type': 'album', 'artists': [...  \n",
       "4  {'album': {'album_type': 'album', 'artists': [...  "
      ]
     },
     "execution_count": 17,
     "metadata": {},
     "output_type": "execute_result"
    }
   ],
   "source": [
    "ndf.head()"
   ]
  },
  {
   "cell_type": "code",
   "execution_count": 18,
   "id": "5cdd4302",
   "metadata": {},
   "outputs": [
    {
     "data": {
      "text/plain": [
       "{'external_urls': {'spotify': 'https://open.spotify.com/user/1225630715'},\n",
       " 'href': 'https://api.spotify.com/v1/users/1225630715',\n",
       " 'id': '1225630715',\n",
       " 'type': 'user',\n",
       " 'uri': 'spotify:user:1225630715'}"
      ]
     },
     "execution_count": 18,
     "metadata": {},
     "output_type": "execute_result"
    }
   ],
   "source": [
    "ndf[\"track\"][0]"
   ]
  },
  {
   "cell_type": "code",
   "execution_count": 20,
   "id": "778a331b",
   "metadata": {},
   "outputs": [
    {
     "data": {
      "text/plain": [
       "{'album': {'album_type': 'single',\n",
       "  'artists': [{'external_urls': {'spotify': 'https://open.spotify.com/artist/16GcWuvvybAoaHr0NqT8Eh'},\n",
       "    'href': 'https://api.spotify.com/v1/artists/16GcWuvvybAoaHr0NqT8Eh',\n",
       "    'id': '16GcWuvvybAoaHr0NqT8Eh',\n",
       "    'name': 'Alabama Shakes',\n",
       "    'type': 'artist',\n",
       "    'uri': 'spotify:artist:16GcWuvvybAoaHr0NqT8Eh'}],\n",
       "  'available_markets': [],\n",
       "  'external_urls': {'spotify': 'https://open.spotify.com/album/1dNRrt0QTrQrZnujD7KS4k'},\n",
       "  'href': 'https://api.spotify.com/v1/albums/1dNRrt0QTrQrZnujD7KS4k',\n",
       "  'id': '1dNRrt0QTrQrZnujD7KS4k',\n",
       "  'images': [{'height': 640,\n",
       "    'url': 'https://i.scdn.co/image/ab67616d0000b273101b0c82d0d3d9079b5b3966',\n",
       "    'width': 640},\n",
       "   {'height': 300,\n",
       "    'url': 'https://i.scdn.co/image/ab67616d00001e02101b0c82d0d3d9079b5b3966',\n",
       "    'width': 300},\n",
       "   {'height': 64,\n",
       "    'url': 'https://i.scdn.co/image/ab67616d00004851101b0c82d0d3d9079b5b3966',\n",
       "    'width': 64}],\n",
       "  'name': 'Future People',\n",
       "  'release_date': '2015-03-18',\n",
       "  'release_date_precision': 'day',\n",
       "  'total_tracks': 1,\n",
       "  'type': 'album',\n",
       "  'uri': 'spotify:album:1dNRrt0QTrQrZnujD7KS4k'},\n",
       " 'artists': [{'external_urls': {'spotify': 'https://open.spotify.com/artist/16GcWuvvybAoaHr0NqT8Eh'},\n",
       "   'href': 'https://api.spotify.com/v1/artists/16GcWuvvybAoaHr0NqT8Eh',\n",
       "   'id': '16GcWuvvybAoaHr0NqT8Eh',\n",
       "   'name': 'Alabama Shakes',\n",
       "   'type': 'artist',\n",
       "   'uri': 'spotify:artist:16GcWuvvybAoaHr0NqT8Eh'}],\n",
       " 'available_markets': [],\n",
       " 'disc_number': 1,\n",
       " 'duration_ms': 201612,\n",
       " 'episode': False,\n",
       " 'explicit': False,\n",
       " 'external_ids': {'isrc': 'USATO1400853'},\n",
       " 'external_urls': {'spotify': 'https://open.spotify.com/track/6p5LBZkLRIeVhbLh0w7EuP'},\n",
       " 'href': 'https://api.spotify.com/v1/tracks/6p5LBZkLRIeVhbLh0w7EuP',\n",
       " 'id': '6p5LBZkLRIeVhbLh0w7EuP',\n",
       " 'is_local': False,\n",
       " 'name': 'Future People',\n",
       " 'popularity': 0,\n",
       " 'preview_url': None,\n",
       " 'track': True,\n",
       " 'track_number': 1,\n",
       " 'type': 'track',\n",
       " 'uri': 'spotify:track:6p5LBZkLRIeVhbLh0w7EuP'}"
      ]
     },
     "execution_count": 20,
     "metadata": {},
     "output_type": "execute_result"
    }
   ],
   "source": [
    "ndf[\"track\"][1]"
   ]
  },
  {
   "cell_type": "code",
   "execution_count": null,
   "id": "fce5d3a6",
   "metadata": {},
   "outputs": [],
   "source": []
  }
 ],
 "metadata": {
  "kernelspec": {
   "display_name": "Python 3 (ipykernel)",
   "language": "python",
   "name": "python3"
  },
  "language_info": {
   "codemirror_mode": {
    "name": "ipython",
    "version": 3
   },
   "file_extension": ".py",
   "mimetype": "text/x-python",
   "name": "python",
   "nbconvert_exporter": "python",
   "pygments_lexer": "ipython3",
   "version": "3.9.13"
  }
 },
 "nbformat": 4,
 "nbformat_minor": 5
}
