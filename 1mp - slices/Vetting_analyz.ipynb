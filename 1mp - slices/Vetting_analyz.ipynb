{
 "cells": [
  {
   "cell_type": "code",
   "execution_count": 1,
   "id": "3601f9c4",
   "metadata": {},
   "outputs": [],
   "source": [
    "import json\n",
    "import pandas as pd"
   ]
  },
  {
   "cell_type": "code",
   "execution_count": 2,
   "id": "b7d852bb",
   "metadata": {},
   "outputs": [
    {
     "name": "stdout",
     "output_type": "stream",
     "text": [
      "dict_keys(['collaborative', 'description', 'external_urls', 'followers', 'href', 'id', 'images', 'name', 'owner', 'primary_color', 'public', 'snapshot_id', 'tracks', 'type', 'uri'])\n"
     ]
    }
   ],
   "source": [
    "with open('Vetting_Playlist.json', 'r') as f:\n",
    "    data = json.load(f)\n",
    "\n",
    "print(data.keys())"
   ]
  },
  {
   "cell_type": "code",
   "execution_count": 3,
   "id": "2167e16a",
   "metadata": {},
   "outputs": [],
   "source": [
    "tracks_data = data[\"tracks\"]"
   ]
  },
  {
   "cell_type": "code",
   "execution_count": 4,
   "id": "0005821a",
   "metadata": {},
   "outputs": [],
   "source": [
    "df = pd.DataFrame(tracks_data)\n"
   ]
  },
  {
   "cell_type": "code",
   "execution_count": 5,
   "id": "efa2a92d",
   "metadata": {},
   "outputs": [],
   "source": [
    "columns_to_drop = [\"href\", \"next\", \"limit\", \"offset\", \"previous\", \"total\"]\n",
    "df.drop(columns=columns_to_drop, inplace=True)"
   ]
  },
  {
   "cell_type": "code",
   "execution_count": 6,
   "id": "9b20d265",
   "metadata": {},
   "outputs": [],
   "source": [
    "ndf = pd.DataFrame(df[\"items\"].tolist())"
   ]
  },
  {
   "cell_type": "code",
   "execution_count": 7,
   "id": "3a8d77f3",
   "metadata": {},
   "outputs": [
    {
     "name": "stdout",
     "output_type": "stream",
     "text": [
      "<class 'pandas.core.frame.DataFrame'>\n",
      "RangeIndex: 100 entries, 0 to 99\n",
      "Data columns (total 6 columns):\n",
      " #   Column           Non-Null Count  Dtype \n",
      "---  ------           --------------  ----- \n",
      " 0   added_at         100 non-null    object\n",
      " 1   added_by         100 non-null    object\n",
      " 2   is_local         100 non-null    bool  \n",
      " 3   primary_color    0 non-null      object\n",
      " 4   track            100 non-null    object\n",
      " 5   video_thumbnail  100 non-null    object\n",
      "dtypes: bool(1), object(5)\n",
      "memory usage: 4.1+ KB\n"
     ]
    }
   ],
   "source": [
    "ndf.info()"
   ]
  },
  {
   "cell_type": "code",
   "execution_count": 8,
   "id": "d0b795a3",
   "metadata": {},
   "outputs": [
    {
     "data": {
      "text/html": [
       "<div>\n",
       "<style scoped>\n",
       "    .dataframe tbody tr th:only-of-type {\n",
       "        vertical-align: middle;\n",
       "    }\n",
       "\n",
       "    .dataframe tbody tr th {\n",
       "        vertical-align: top;\n",
       "    }\n",
       "\n",
       "    .dataframe thead th {\n",
       "        text-align: right;\n",
       "    }\n",
       "</style>\n",
       "<table border=\"1\" class=\"dataframe\">\n",
       "  <thead>\n",
       "    <tr style=\"text-align: right;\">\n",
       "      <th></th>\n",
       "      <th>added_at</th>\n",
       "      <th>added_by</th>\n",
       "      <th>is_local</th>\n",
       "      <th>primary_color</th>\n",
       "      <th>track</th>\n",
       "      <th>video_thumbnail</th>\n",
       "    </tr>\n",
       "  </thead>\n",
       "  <tbody>\n",
       "    <tr>\n",
       "      <th>0</th>\n",
       "      <td>2017-04-15T00:53:05Z</td>\n",
       "      <td>{'external_urls': {'spotify': 'https://open.sp...</td>\n",
       "      <td>False</td>\n",
       "      <td>None</td>\n",
       "      <td>{'album': {'album_type': 'album', 'artists': [...</td>\n",
       "      <td>{'url': None}</td>\n",
       "    </tr>\n",
       "    <tr>\n",
       "      <th>1</th>\n",
       "      <td>2017-04-15T00:54:34Z</td>\n",
       "      <td>{'external_urls': {'spotify': 'https://open.sp...</td>\n",
       "      <td>False</td>\n",
       "      <td>None</td>\n",
       "      <td>{'album': {'album_type': 'single', 'artists': ...</td>\n",
       "      <td>{'url': None}</td>\n",
       "    </tr>\n",
       "    <tr>\n",
       "      <th>2</th>\n",
       "      <td>2017-04-15T00:55:17Z</td>\n",
       "      <td>{'external_urls': {'spotify': 'https://open.sp...</td>\n",
       "      <td>False</td>\n",
       "      <td>None</td>\n",
       "      <td>{'album': {'album_type': 'album', 'artists': [...</td>\n",
       "      <td>{'url': None}</td>\n",
       "    </tr>\n",
       "    <tr>\n",
       "      <th>3</th>\n",
       "      <td>2017-04-15T00:58:29Z</td>\n",
       "      <td>{'external_urls': {'spotify': 'https://open.sp...</td>\n",
       "      <td>False</td>\n",
       "      <td>None</td>\n",
       "      <td>{'album': {'album_type': 'album', 'artists': [...</td>\n",
       "      <td>{'url': None}</td>\n",
       "    </tr>\n",
       "    <tr>\n",
       "      <th>4</th>\n",
       "      <td>2017-04-21T17:02:44Z</td>\n",
       "      <td>{'external_urls': {'spotify': 'https://open.sp...</td>\n",
       "      <td>False</td>\n",
       "      <td>None</td>\n",
       "      <td>{'album': {'album_type': 'album', 'artists': [...</td>\n",
       "      <td>{'url': None}</td>\n",
       "    </tr>\n",
       "  </tbody>\n",
       "</table>\n",
       "</div>"
      ],
      "text/plain": [
       "               added_at                                           added_by  \\\n",
       "0  2017-04-15T00:53:05Z  {'external_urls': {'spotify': 'https://open.sp...   \n",
       "1  2017-04-15T00:54:34Z  {'external_urls': {'spotify': 'https://open.sp...   \n",
       "2  2017-04-15T00:55:17Z  {'external_urls': {'spotify': 'https://open.sp...   \n",
       "3  2017-04-15T00:58:29Z  {'external_urls': {'spotify': 'https://open.sp...   \n",
       "4  2017-04-21T17:02:44Z  {'external_urls': {'spotify': 'https://open.sp...   \n",
       "\n",
       "   is_local primary_color                                              track  \\\n",
       "0     False          None  {'album': {'album_type': 'album', 'artists': [...   \n",
       "1     False          None  {'album': {'album_type': 'single', 'artists': ...   \n",
       "2     False          None  {'album': {'album_type': 'album', 'artists': [...   \n",
       "3     False          None  {'album': {'album_type': 'album', 'artists': [...   \n",
       "4     False          None  {'album': {'album_type': 'album', 'artists': [...   \n",
       "\n",
       "  video_thumbnail  \n",
       "0   {'url': None}  \n",
       "1   {'url': None}  \n",
       "2   {'url': None}  \n",
       "3   {'url': None}  \n",
       "4   {'url': None}  "
      ]
     },
     "execution_count": 8,
     "metadata": {},
     "output_type": "execute_result"
    }
   ],
   "source": [
    "ndf.head()"
   ]
  },
  {
   "cell_type": "code",
   "execution_count": 9,
   "id": "08fa32ad",
   "metadata": {},
   "outputs": [],
   "source": [
    "ncolumns_to_drop = [\"is_local\", \"primary_color\", \"video_thumbnail\", \"added_by\"]\n",
    "ndf.drop(columns=ncolumns_to_drop, inplace=True)"
   ]
  },
  {
   "cell_type": "code",
   "execution_count": 10,
   "id": "43911c49",
   "metadata": {},
   "outputs": [
    {
     "data": {
      "text/html": [
       "<div>\n",
       "<style scoped>\n",
       "    .dataframe tbody tr th:only-of-type {\n",
       "        vertical-align: middle;\n",
       "    }\n",
       "\n",
       "    .dataframe tbody tr th {\n",
       "        vertical-align: top;\n",
       "    }\n",
       "\n",
       "    .dataframe thead th {\n",
       "        text-align: right;\n",
       "    }\n",
       "</style>\n",
       "<table border=\"1\" class=\"dataframe\">\n",
       "  <thead>\n",
       "    <tr style=\"text-align: right;\">\n",
       "      <th></th>\n",
       "      <th>added_at</th>\n",
       "      <th>track</th>\n",
       "    </tr>\n",
       "  </thead>\n",
       "  <tbody>\n",
       "    <tr>\n",
       "      <th>0</th>\n",
       "      <td>2017-04-15T00:53:05Z</td>\n",
       "      <td>{'album': {'album_type': 'album', 'artists': [...</td>\n",
       "    </tr>\n",
       "    <tr>\n",
       "      <th>1</th>\n",
       "      <td>2017-04-15T00:54:34Z</td>\n",
       "      <td>{'album': {'album_type': 'single', 'artists': ...</td>\n",
       "    </tr>\n",
       "    <tr>\n",
       "      <th>2</th>\n",
       "      <td>2017-04-15T00:55:17Z</td>\n",
       "      <td>{'album': {'album_type': 'album', 'artists': [...</td>\n",
       "    </tr>\n",
       "    <tr>\n",
       "      <th>3</th>\n",
       "      <td>2017-04-15T00:58:29Z</td>\n",
       "      <td>{'album': {'album_type': 'album', 'artists': [...</td>\n",
       "    </tr>\n",
       "    <tr>\n",
       "      <th>4</th>\n",
       "      <td>2017-04-21T17:02:44Z</td>\n",
       "      <td>{'album': {'album_type': 'album', 'artists': [...</td>\n",
       "    </tr>\n",
       "  </tbody>\n",
       "</table>\n",
       "</div>"
      ],
      "text/plain": [
       "               added_at                                              track\n",
       "0  2017-04-15T00:53:05Z  {'album': {'album_type': 'album', 'artists': [...\n",
       "1  2017-04-15T00:54:34Z  {'album': {'album_type': 'single', 'artists': ...\n",
       "2  2017-04-15T00:55:17Z  {'album': {'album_type': 'album', 'artists': [...\n",
       "3  2017-04-15T00:58:29Z  {'album': {'album_type': 'album', 'artists': [...\n",
       "4  2017-04-21T17:02:44Z  {'album': {'album_type': 'album', 'artists': [..."
      ]
     },
     "execution_count": 10,
     "metadata": {},
     "output_type": "execute_result"
    }
   ],
   "source": [
    "ndf.head()"
   ]
  },
  {
   "cell_type": "code",
   "execution_count": 11,
   "id": "5cdd4302",
   "metadata": {},
   "outputs": [
    {
     "data": {
      "text/plain": [
       "{'album': {'album_type': 'album',\n",
       "  'artists': [{'external_urls': {'spotify': 'https://open.spotify.com/artist/16GcWuvvybAoaHr0NqT8Eh'},\n",
       "    'href': 'https://api.spotify.com/v1/artists/16GcWuvvybAoaHr0NqT8Eh',\n",
       "    'id': '16GcWuvvybAoaHr0NqT8Eh',\n",
       "    'name': 'Alabama Shakes',\n",
       "    'type': 'artist',\n",
       "    'uri': 'spotify:artist:16GcWuvvybAoaHr0NqT8Eh'}],\n",
       "  'available_markets': [],\n",
       "  'external_urls': {'spotify': 'https://open.spotify.com/album/6TWqxofcKQaZ9gHI49G36P'},\n",
       "  'href': 'https://api.spotify.com/v1/albums/6TWqxofcKQaZ9gHI49G36P',\n",
       "  'id': '6TWqxofcKQaZ9gHI49G36P',\n",
       "  'images': [{'height': 640,\n",
       "    'url': 'https://i.scdn.co/image/ab67616d0000b2733ac1c6d65fc596eeb9234ef2',\n",
       "    'width': 640},\n",
       "   {'height': 300,\n",
       "    'url': 'https://i.scdn.co/image/ab67616d00001e023ac1c6d65fc596eeb9234ef2',\n",
       "    'width': 300},\n",
       "   {'height': 64,\n",
       "    'url': 'https://i.scdn.co/image/ab67616d000048513ac1c6d65fc596eeb9234ef2',\n",
       "    'width': 64}],\n",
       "  'name': 'Sound & Color',\n",
       "  'release_date': '2015-04-21',\n",
       "  'release_date_precision': 'day',\n",
       "  'total_tracks': 12,\n",
       "  'type': 'album',\n",
       "  'uri': 'spotify:album:6TWqxofcKQaZ9gHI49G36P'},\n",
       " 'artists': [{'external_urls': {'spotify': 'https://open.spotify.com/artist/16GcWuvvybAoaHr0NqT8Eh'},\n",
       "   'href': 'https://api.spotify.com/v1/artists/16GcWuvvybAoaHr0NqT8Eh',\n",
       "   'id': '16GcWuvvybAoaHr0NqT8Eh',\n",
       "   'name': 'Alabama Shakes',\n",
       "   'type': 'artist',\n",
       "   'uri': 'spotify:artist:16GcWuvvybAoaHr0NqT8Eh'}],\n",
       " 'available_markets': [],\n",
       " 'disc_number': 1,\n",
       " 'duration_ms': 257920,\n",
       " 'episode': False,\n",
       " 'explicit': False,\n",
       " 'external_ids': {'isrc': 'USATO1400852'},\n",
       " 'external_urls': {'spotify': 'https://open.spotify.com/track/51ggEZWbFP5dMdWjGCDYTk'},\n",
       " 'href': 'https://api.spotify.com/v1/tracks/51ggEZWbFP5dMdWjGCDYTk',\n",
       " 'id': '51ggEZWbFP5dMdWjGCDYTk',\n",
       " 'is_local': False,\n",
       " 'name': 'Dunes',\n",
       " 'popularity': 0,\n",
       " 'preview_url': None,\n",
       " 'track': True,\n",
       " 'track_number': 3,\n",
       " 'type': 'track',\n",
       " 'uri': 'spotify:track:51ggEZWbFP5dMdWjGCDYTk'}"
      ]
     },
     "execution_count": 11,
     "metadata": {},
     "output_type": "execute_result"
    }
   ],
   "source": [
    "ndf[\"track\"][0]"
   ]
  },
  {
   "cell_type": "code",
   "execution_count": 12,
   "id": "778a331b",
   "metadata": {},
   "outputs": [
    {
     "data": {
      "text/plain": [
       "{'album': {'album_type': 'single',\n",
       "  'artists': [{'external_urls': {'spotify': 'https://open.spotify.com/artist/16GcWuvvybAoaHr0NqT8Eh'},\n",
       "    'href': 'https://api.spotify.com/v1/artists/16GcWuvvybAoaHr0NqT8Eh',\n",
       "    'id': '16GcWuvvybAoaHr0NqT8Eh',\n",
       "    'name': 'Alabama Shakes',\n",
       "    'type': 'artist',\n",
       "    'uri': 'spotify:artist:16GcWuvvybAoaHr0NqT8Eh'}],\n",
       "  'available_markets': [],\n",
       "  'external_urls': {'spotify': 'https://open.spotify.com/album/1dNRrt0QTrQrZnujD7KS4k'},\n",
       "  'href': 'https://api.spotify.com/v1/albums/1dNRrt0QTrQrZnujD7KS4k',\n",
       "  'id': '1dNRrt0QTrQrZnujD7KS4k',\n",
       "  'images': [{'height': 640,\n",
       "    'url': 'https://i.scdn.co/image/ab67616d0000b273101b0c82d0d3d9079b5b3966',\n",
       "    'width': 640},\n",
       "   {'height': 300,\n",
       "    'url': 'https://i.scdn.co/image/ab67616d00001e02101b0c82d0d3d9079b5b3966',\n",
       "    'width': 300},\n",
       "   {'height': 64,\n",
       "    'url': 'https://i.scdn.co/image/ab67616d00004851101b0c82d0d3d9079b5b3966',\n",
       "    'width': 64}],\n",
       "  'name': 'Future People',\n",
       "  'release_date': '2015-03-18',\n",
       "  'release_date_precision': 'day',\n",
       "  'total_tracks': 1,\n",
       "  'type': 'album',\n",
       "  'uri': 'spotify:album:1dNRrt0QTrQrZnujD7KS4k'},\n",
       " 'artists': [{'external_urls': {'spotify': 'https://open.spotify.com/artist/16GcWuvvybAoaHr0NqT8Eh'},\n",
       "   'href': 'https://api.spotify.com/v1/artists/16GcWuvvybAoaHr0NqT8Eh',\n",
       "   'id': '16GcWuvvybAoaHr0NqT8Eh',\n",
       "   'name': 'Alabama Shakes',\n",
       "   'type': 'artist',\n",
       "   'uri': 'spotify:artist:16GcWuvvybAoaHr0NqT8Eh'}],\n",
       " 'available_markets': [],\n",
       " 'disc_number': 1,\n",
       " 'duration_ms': 201612,\n",
       " 'episode': False,\n",
       " 'explicit': False,\n",
       " 'external_ids': {'isrc': 'USATO1400853'},\n",
       " 'external_urls': {'spotify': 'https://open.spotify.com/track/6p5LBZkLRIeVhbLh0w7EuP'},\n",
       " 'href': 'https://api.spotify.com/v1/tracks/6p5LBZkLRIeVhbLh0w7EuP',\n",
       " 'id': '6p5LBZkLRIeVhbLh0w7EuP',\n",
       " 'is_local': False,\n",
       " 'name': 'Future People',\n",
       " 'popularity': 0,\n",
       " 'preview_url': None,\n",
       " 'track': True,\n",
       " 'track_number': 1,\n",
       " 'type': 'track',\n",
       " 'uri': 'spotify:track:6p5LBZkLRIeVhbLh0w7EuP'}"
      ]
     },
     "execution_count": 12,
     "metadata": {},
     "output_type": "execute_result"
    }
   ],
   "source": [
    "ndf[\"track\"][1]"
   ]
  },
  {
   "cell_type": "code",
   "execution_count": 13,
   "id": "fce5d3a6",
   "metadata": {},
   "outputs": [],
   "source": [
    "nndf = ndf[\"track\"]"
   ]
  },
  {
   "cell_type": "code",
   "execution_count": 14,
   "id": "a686187d",
   "metadata": {},
   "outputs": [
    {
     "name": "stdout",
     "output_type": "stream",
     "text": [
      "<class 'pandas.core.series.Series'>\n",
      "RangeIndex: 100 entries, 0 to 99\n",
      "Series name: track\n",
      "Non-Null Count  Dtype \n",
      "--------------  ----- \n",
      "100 non-null    object\n",
      "dtypes: object(1)\n",
      "memory usage: 928.0+ bytes\n"
     ]
    }
   ],
   "source": [
    "nndf.info()"
   ]
  },
  {
   "cell_type": "code",
   "execution_count": 15,
   "id": "90653f73",
   "metadata": {},
   "outputs": [
    {
     "data": {
      "text/plain": [
       "0    {'album': {'album_type': 'album', 'artists': [...\n",
       "1    {'album': {'album_type': 'single', 'artists': ...\n",
       "2    {'album': {'album_type': 'album', 'artists': [...\n",
       "3    {'album': {'album_type': 'album', 'artists': [...\n",
       "4    {'album': {'album_type': 'album', 'artists': [...\n",
       "Name: track, dtype: object"
      ]
     },
     "execution_count": 15,
     "metadata": {},
     "output_type": "execute_result"
    }
   ],
   "source": [
    "nndf.head()"
   ]
  },
  {
   "cell_type": "code",
   "execution_count": 16,
   "id": "084de79c",
   "metadata": {},
   "outputs": [
    {
     "data": {
      "text/plain": [
       "{'album': {'album_type': 'album',\n",
       "  'artists': [{'external_urls': {'spotify': 'https://open.spotify.com/artist/16GcWuvvybAoaHr0NqT8Eh'},\n",
       "    'href': 'https://api.spotify.com/v1/artists/16GcWuvvybAoaHr0NqT8Eh',\n",
       "    'id': '16GcWuvvybAoaHr0NqT8Eh',\n",
       "    'name': 'Alabama Shakes',\n",
       "    'type': 'artist',\n",
       "    'uri': 'spotify:artist:16GcWuvvybAoaHr0NqT8Eh'}],\n",
       "  'available_markets': [],\n",
       "  'external_urls': {'spotify': 'https://open.spotify.com/album/6TWqxofcKQaZ9gHI49G36P'},\n",
       "  'href': 'https://api.spotify.com/v1/albums/6TWqxofcKQaZ9gHI49G36P',\n",
       "  'id': '6TWqxofcKQaZ9gHI49G36P',\n",
       "  'images': [{'height': 640,\n",
       "    'url': 'https://i.scdn.co/image/ab67616d0000b2733ac1c6d65fc596eeb9234ef2',\n",
       "    'width': 640},\n",
       "   {'height': 300,\n",
       "    'url': 'https://i.scdn.co/image/ab67616d00001e023ac1c6d65fc596eeb9234ef2',\n",
       "    'width': 300},\n",
       "   {'height': 64,\n",
       "    'url': 'https://i.scdn.co/image/ab67616d000048513ac1c6d65fc596eeb9234ef2',\n",
       "    'width': 64}],\n",
       "  'name': 'Sound & Color',\n",
       "  'release_date': '2015-04-21',\n",
       "  'release_date_precision': 'day',\n",
       "  'total_tracks': 12,\n",
       "  'type': 'album',\n",
       "  'uri': 'spotify:album:6TWqxofcKQaZ9gHI49G36P'},\n",
       " 'artists': [{'external_urls': {'spotify': 'https://open.spotify.com/artist/16GcWuvvybAoaHr0NqT8Eh'},\n",
       "   'href': 'https://api.spotify.com/v1/artists/16GcWuvvybAoaHr0NqT8Eh',\n",
       "   'id': '16GcWuvvybAoaHr0NqT8Eh',\n",
       "   'name': 'Alabama Shakes',\n",
       "   'type': 'artist',\n",
       "   'uri': 'spotify:artist:16GcWuvvybAoaHr0NqT8Eh'}],\n",
       " 'available_markets': [],\n",
       " 'disc_number': 1,\n",
       " 'duration_ms': 257920,\n",
       " 'episode': False,\n",
       " 'explicit': False,\n",
       " 'external_ids': {'isrc': 'USATO1400852'},\n",
       " 'external_urls': {'spotify': 'https://open.spotify.com/track/51ggEZWbFP5dMdWjGCDYTk'},\n",
       " 'href': 'https://api.spotify.com/v1/tracks/51ggEZWbFP5dMdWjGCDYTk',\n",
       " 'id': '51ggEZWbFP5dMdWjGCDYTk',\n",
       " 'is_local': False,\n",
       " 'name': 'Dunes',\n",
       " 'popularity': 0,\n",
       " 'preview_url': None,\n",
       " 'track': True,\n",
       " 'track_number': 3,\n",
       " 'type': 'track',\n",
       " 'uri': 'spotify:track:51ggEZWbFP5dMdWjGCDYTk'}"
      ]
     },
     "execution_count": 16,
     "metadata": {},
     "output_type": "execute_result"
    }
   ],
   "source": [
    "nndf[0]"
   ]
  },
  {
   "cell_type": "code",
   "execution_count": 17,
   "id": "23d7237b",
   "metadata": {},
   "outputs": [],
   "source": [
    "n0df = nndf[0]"
   ]
  },
  {
   "cell_type": "code",
   "execution_count": 18,
   "id": "b04d760d",
   "metadata": {},
   "outputs": [
    {
     "ename": "AttributeError",
     "evalue": "'dict' object has no attribute 'head'",
     "output_type": "error",
     "traceback": [
      "\u001b[1;31m---------------------------------------------------------------------------\u001b[0m",
      "\u001b[1;31mAttributeError\u001b[0m                            Traceback (most recent call last)",
      "\u001b[1;32m~\\AppData\\Local\\Temp\\ipykernel_9172\\2455312223.py\u001b[0m in \u001b[0;36m<module>\u001b[1;34m\u001b[0m\n\u001b[1;32m----> 1\u001b[1;33m \u001b[0mn0df\u001b[0m\u001b[1;33m.\u001b[0m\u001b[0mhead\u001b[0m\u001b[1;33m(\u001b[0m\u001b[1;33m)\u001b[0m\u001b[1;33m\u001b[0m\u001b[1;33m\u001b[0m\u001b[0m\n\u001b[0m",
      "\u001b[1;31mAttributeError\u001b[0m: 'dict' object has no attribute 'head'"
     ]
    }
   ],
   "source": [
    "n0df.head()"
   ]
  },
  {
   "cell_type": "code",
   "execution_count": 19,
   "id": "842648b9",
   "metadata": {},
   "outputs": [
    {
     "data": {
      "text/plain": [
       "{'album': {'album_type': 'album',\n",
       "  'artists': [{'external_urls': {'spotify': 'https://open.spotify.com/artist/16GcWuvvybAoaHr0NqT8Eh'},\n",
       "    'href': 'https://api.spotify.com/v1/artists/16GcWuvvybAoaHr0NqT8Eh',\n",
       "    'id': '16GcWuvvybAoaHr0NqT8Eh',\n",
       "    'name': 'Alabama Shakes',\n",
       "    'type': 'artist',\n",
       "    'uri': 'spotify:artist:16GcWuvvybAoaHr0NqT8Eh'}],\n",
       "  'available_markets': [],\n",
       "  'external_urls': {'spotify': 'https://open.spotify.com/album/6TWqxofcKQaZ9gHI49G36P'},\n",
       "  'href': 'https://api.spotify.com/v1/albums/6TWqxofcKQaZ9gHI49G36P',\n",
       "  'id': '6TWqxofcKQaZ9gHI49G36P',\n",
       "  'images': [{'height': 640,\n",
       "    'url': 'https://i.scdn.co/image/ab67616d0000b2733ac1c6d65fc596eeb9234ef2',\n",
       "    'width': 640},\n",
       "   {'height': 300,\n",
       "    'url': 'https://i.scdn.co/image/ab67616d00001e023ac1c6d65fc596eeb9234ef2',\n",
       "    'width': 300},\n",
       "   {'height': 64,\n",
       "    'url': 'https://i.scdn.co/image/ab67616d000048513ac1c6d65fc596eeb9234ef2',\n",
       "    'width': 64}],\n",
       "  'name': 'Sound & Color',\n",
       "  'release_date': '2015-04-21',\n",
       "  'release_date_precision': 'day',\n",
       "  'total_tracks': 12,\n",
       "  'type': 'album',\n",
       "  'uri': 'spotify:album:6TWqxofcKQaZ9gHI49G36P'},\n",
       " 'artists': [{'external_urls': {'spotify': 'https://open.spotify.com/artist/16GcWuvvybAoaHr0NqT8Eh'},\n",
       "   'href': 'https://api.spotify.com/v1/artists/16GcWuvvybAoaHr0NqT8Eh',\n",
       "   'id': '16GcWuvvybAoaHr0NqT8Eh',\n",
       "   'name': 'Alabama Shakes',\n",
       "   'type': 'artist',\n",
       "   'uri': 'spotify:artist:16GcWuvvybAoaHr0NqT8Eh'}],\n",
       " 'available_markets': [],\n",
       " 'disc_number': 1,\n",
       " 'duration_ms': 257920,\n",
       " 'episode': False,\n",
       " 'explicit': False,\n",
       " 'external_ids': {'isrc': 'USATO1400852'},\n",
       " 'external_urls': {'spotify': 'https://open.spotify.com/track/51ggEZWbFP5dMdWjGCDYTk'},\n",
       " 'href': 'https://api.spotify.com/v1/tracks/51ggEZWbFP5dMdWjGCDYTk',\n",
       " 'id': '51ggEZWbFP5dMdWjGCDYTk',\n",
       " 'is_local': False,\n",
       " 'name': 'Dunes',\n",
       " 'popularity': 0,\n",
       " 'preview_url': None,\n",
       " 'track': True,\n",
       " 'track_number': 3,\n",
       " 'type': 'track',\n",
       " 'uri': 'spotify:track:51ggEZWbFP5dMdWjGCDYTk'}"
      ]
     },
     "execution_count": 19,
     "metadata": {},
     "output_type": "execute_result"
    }
   ],
   "source": [
    "n0df"
   ]
  },
  {
   "cell_type": "code",
   "execution_count": null,
   "id": "812c50fa",
   "metadata": {},
   "outputs": [],
   "source": []
  }
 ],
 "metadata": {
  "kernelspec": {
   "display_name": "Python 3 (ipykernel)",
   "language": "python",
   "name": "python3"
  },
  "language_info": {
   "codemirror_mode": {
    "name": "ipython",
    "version": 3
   },
   "file_extension": ".py",
   "mimetype": "text/x-python",
   "name": "python",
   "nbconvert_exporter": "python",
   "pygments_lexer": "ipython3",
   "version": "3.9.13"
  }
 },
 "nbformat": 4,
 "nbformat_minor": 5
}
